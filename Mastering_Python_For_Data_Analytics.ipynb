{
 "cells": [
  {
   "cell_type": "code",
   "execution_count": 1,
   "metadata": {},
   "outputs": [],
   "source": [
    "import os\n",
    "%matplotlib inline \n",
    "import matplotlib.pyplot as plt #1st usage chap 1\n",
    "import numpy as np #1st usage chap 1\n",
    "import pandas as pd #1st usage chap 1\n",
    "import scipy.stats as stats #1st usage chap 2\n",
    "from scipy.stats import linregress #1st usage chap 2\n",
    "from pandas import Series, DataFrame #1st usage chap 3\n",
    "import numpy.random as rnd #1st usage chap 3\n",
    "import urllib.request #1st used chap 4\n",
    "#import pandas.io.data #1st used chap 4\n",
    "import matplotlib.patches as patches #1st used chap 4\n",
    "import matplotlib.transforms as transforms #1st used chap 4\n",
    "import statsmodels.formula.api as smf #1st used chap 4\n",
    "from statsmodels.sandbox.regression.predstd import wls_prediction_std #1st used chap 4\n",
    "from pandas_datareader import data, wb #==from pandas.io import data,wb #1st used chap 4\n",
    "import statsmodels.api as sm #1st used chap 4\n",
    "from mpl_toolkits.mplot3d import Axes3D #1st used chap 4"
   ]
  },
  {
   "cell_type": "markdown",
   "metadata": {},
   "source": [
    "# Chapter 1\n",
    "- Overview of the tools available for data analysis in Python\n",
    "- How to read data files, select data, and produce simple plots, instead of delving into numerical data analysis"
   ]
  },
  {
   "cell_type": "code",
   "execution_count": 2,
   "metadata": {},
   "outputs": [],
   "source": [
    "plt.style.use('seaborn-pastel')"
   ]
  },
  {
   "cell_type": "code",
   "execution_count": 3,
   "metadata": {},
   "outputs": [
    {
     "name": "stderr",
     "output_type": "stream",
     "text": [
      "C:\\ProgramData\\Anaconda3\\lib\\site-packages\\ipykernel_launcher.py:2: ParserWarning: Falling back to the 'python' engine because the 'c' engine does not support regex separators (separators > 1 char and different from '\\s+' are interpreted as regex); you can avoid this warning by specifying engine='python'.\n",
      "  \n"
     ]
    }
   ],
   "source": [
    "cols = ['user id', 'item id', 'rating', 'timestamp']\n",
    "ratings = pd.read_csv('data/ratings.dat', sep='::',index_col=False, names=cols,encoding=\"UTF-8\")"
   ]
  },
  {
   "cell_type": "code",
   "execution_count": 4,
   "metadata": {},
   "outputs": [
    {
     "data": {
      "text/html": [
       "<div>\n",
       "<style scoped>\n",
       "    .dataframe tbody tr th:only-of-type {\n",
       "        vertical-align: middle;\n",
       "    }\n",
       "\n",
       "    .dataframe tbody tr th {\n",
       "        vertical-align: top;\n",
       "    }\n",
       "\n",
       "    .dataframe thead th {\n",
       "        text-align: right;\n",
       "    }\n",
       "</style>\n",
       "<table border=\"1\" class=\"dataframe\">\n",
       "  <thead>\n",
       "    <tr style=\"text-align: right;\">\n",
       "      <th></th>\n",
       "      <th>user id</th>\n",
       "      <th>item id</th>\n",
       "      <th>rating</th>\n",
       "      <th>timestamp</th>\n",
       "    </tr>\n",
       "  </thead>\n",
       "  <tbody>\n",
       "    <tr>\n",
       "      <th>0</th>\n",
       "      <td>1</td>\n",
       "      <td>1074638</td>\n",
       "      <td>7</td>\n",
       "      <td>1365029107</td>\n",
       "    </tr>\n",
       "    <tr>\n",
       "      <th>1</th>\n",
       "      <td>1</td>\n",
       "      <td>1853728</td>\n",
       "      <td>8</td>\n",
       "      <td>1366576639</td>\n",
       "    </tr>\n",
       "    <tr>\n",
       "      <th>2</th>\n",
       "      <td>2</td>\n",
       "      <td>104257</td>\n",
       "      <td>8</td>\n",
       "      <td>1364690142</td>\n",
       "    </tr>\n",
       "    <tr>\n",
       "      <th>3</th>\n",
       "      <td>2</td>\n",
       "      <td>1259521</td>\n",
       "      <td>8</td>\n",
       "      <td>1364118447</td>\n",
       "    </tr>\n",
       "    <tr>\n",
       "      <th>4</th>\n",
       "      <td>2</td>\n",
       "      <td>1991245</td>\n",
       "      <td>7</td>\n",
       "      <td>1364117717</td>\n",
       "    </tr>\n",
       "  </tbody>\n",
       "</table>\n",
       "</div>"
      ],
      "text/plain": [
       "   user id  item id  rating   timestamp\n",
       "0        1  1074638       7  1365029107\n",
       "1        1  1853728       8  1366576639\n",
       "2        2   104257       8  1364690142\n",
       "3        2  1259521       8  1364118447\n",
       "4        2  1991245       7  1364117717"
      ]
     },
     "execution_count": 4,
     "metadata": {},
     "output_type": "execute_result"
    }
   ],
   "source": [
    "ratings.head()"
   ]
  },
  {
   "cell_type": "code",
   "execution_count": 5,
   "metadata": {},
   "outputs": [
    {
     "data": {
      "text/plain": [
       "8     12012\n",
       "7     11063\n",
       "9      7119\n",
       "6      6373\n",
       "10     6281\n",
       "5      3399\n",
       "4      1696\n",
       "3       924\n",
       "1       595\n",
       "2       533\n",
       "0         5\n",
       "Name: rating, dtype: int64"
      ]
     },
     "execution_count": 5,
     "metadata": {},
     "output_type": "execute_result"
    }
   ],
   "source": [
    "rating_counts = ratings['rating'].value_counts()\n",
    "rating_counts"
   ]
  },
  {
   "cell_type": "code",
   "execution_count": 6,
   "metadata": {},
   "outputs": [
    {
     "data": {
      "text/plain": [
       "0         5\n",
       "1       595\n",
       "2       533\n",
       "3       924\n",
       "4      1696\n",
       "5      3399\n",
       "6      6373\n",
       "7     11063\n",
       "8     12012\n",
       "9      7119\n",
       "10     6281\n",
       "Name: rating, dtype: int64"
      ]
     },
     "execution_count": 6,
     "metadata": {},
     "output_type": "execute_result"
    }
   ],
   "source": [
    "sorted_counts = rating_counts.sort_index()\n",
    "sorted_counts"
   ]
  },
  {
   "cell_type": "code",
   "execution_count": 7,
   "metadata": {},
   "outputs": [
    {
     "data": {
      "text/plain": [
       "Text(0,0.5,'Count')"
      ]
     },
     "execution_count": 7,
     "metadata": {},
     "output_type": "execute_result"
    },
    {
     "data": {
      "image/png": "[encoded data removed]",
      "text/plain": [
       "<Figure size 432x288 with 1 Axes>"
      ]
     },
     "metadata": {
      "needs_background": "light"
     },
     "output_type": "display_data"
    }
   ],
   "source": [
    "sorted_counts.plot(kind='bar', color='SteelBlue')\n",
    "plt.title('Movie ratings')\n",
    "plt.xlabel('Rating')\n",
    "plt.ylabel('Count')"
   ]
  },
  {
   "cell_type": "markdown",
   "metadata": {},
   "source": [
    "**Ratings distribution for a particular movie genre,say \"Crime Drama\", is similar to the overall distribution.**"
   ]
  },
  {
   "cell_type": "code",
   "execution_count": 8,
   "metadata": {},
   "outputs": [
    {
     "name": "stderr",
     "output_type": "stream",
     "text": [
      "C:\\ProgramData\\Anaconda3\\lib\\site-packages\\ipykernel_launcher.py:2: ParserWarning: Falling back to the 'python' engine because the 'c' engine does not support regex separators (separators > 1 char and different from '\\s+' are interpreted as regex); you can avoid this warning by specifying engine='python'.\n",
      "  \n"
     ]
    }
   ],
   "source": [
    "cols = ['movie id','movie title','genre']\n",
    "movies = pd.read_csv('data/movies.dat', sep='::',index_col=False, names=cols,encoding=\"UTF-8\")"
   ]
  },
  {
   "cell_type": "code",
   "execution_count": 9,
   "metadata": {
    "scrolled": true
   },
   "outputs": [
    {
     "data": {
      "text/html": [
       "<div>\n",
       "<style scoped>\n",
       "    .dataframe tbody tr th:only-of-type {\n",
       "        vertical-align: middle;\n",
       "    }\n",
       "\n",
       "    .dataframe tbody tr th {\n",
       "        vertical-align: top;\n",
       "    }\n",
       "\n",
       "    .dataframe thead th {\n",
       "        text-align: right;\n",
       "    }\n",
       "</style>\n",
       "<table border=\"1\" class=\"dataframe\">\n",
       "  <thead>\n",
       "    <tr style=\"text-align: right;\">\n",
       "      <th></th>\n",
       "      <th>movie id</th>\n",
       "      <th>movie title</th>\n",
       "      <th>genre</th>\n",
       "    </tr>\n",
       "  </thead>\n",
       "  <tbody>\n",
       "    <tr>\n",
       "      <th>0</th>\n",
       "      <td>2844</td>\n",
       "      <td>Fantômas - À l'ombre de la guillotine (1913)</td>\n",
       "      <td>Crime|Drama</td>\n",
       "    </tr>\n",
       "    <tr>\n",
       "      <th>1</th>\n",
       "      <td>4936</td>\n",
       "      <td>The Bank (1915)</td>\n",
       "      <td>Comedy|Short</td>\n",
       "    </tr>\n",
       "    <tr>\n",
       "      <th>2</th>\n",
       "      <td>7264</td>\n",
       "      <td>The Rink (1916)</td>\n",
       "      <td>Comedy|Short</td>\n",
       "    </tr>\n",
       "    <tr>\n",
       "      <th>3</th>\n",
       "      <td>8133</td>\n",
       "      <td>The Immigrant (1917)</td>\n",
       "      <td>Short|Comedy|Drama|Romance</td>\n",
       "    </tr>\n",
       "    <tr>\n",
       "      <th>4</th>\n",
       "      <td>9968</td>\n",
       "      <td>Broken Blossoms or The Yellow Man and the Girl...</td>\n",
       "      <td>Drama|Romance</td>\n",
       "    </tr>\n",
       "  </tbody>\n",
       "</table>\n",
       "</div>"
      ],
      "text/plain": [
       "   movie id                                        movie title  \\\n",
       "0      2844       Fantômas - À l'ombre de la guillotine (1913)   \n",
       "1      4936                                    The Bank (1915)   \n",
       "2      7264                                    The Rink (1916)   \n",
       "3      8133                               The Immigrant (1917)   \n",
       "4      9968  Broken Blossoms or The Yellow Man and the Girl...   \n",
       "\n",
       "                        genre  \n",
       "0                 Crime|Drama  \n",
       "1                Comedy|Short  \n",
       "2                Comedy|Short  \n",
       "3  Short|Comedy|Drama|Romance  \n",
       "4               Drama|Romance  "
      ]
     },
     "execution_count": 9,
     "metadata": {},
     "output_type": "execute_result"
    }
   ],
   "source": [
    "movies.head()"
   ]
  },
  {
   "cell_type": "code",
   "execution_count": 10,
   "metadata": {},
   "outputs": [],
   "source": [
    "cridra=movies[movies['genre']=='Crime|Drama']"
   ]
  },
  {
   "cell_type": "code",
   "execution_count": 11,
   "metadata": {},
   "outputs": [
    {
     "data": {
      "text/plain": [
       "0     True\n",
       "1    False\n",
       "2    False\n",
       "3    False\n",
       "4    False\n",
       "Name: genre, dtype: bool"
      ]
     },
     "execution_count": 11,
     "metadata": {},
     "output_type": "execute_result"
    }
   ],
   "source": [
    "is_cridra = movies['genre']== 'Crime|Drama'\n",
    "is_cridra.head()"
   ]
  },
  {
   "cell_type": "code",
   "execution_count": 12,
   "metadata": {},
   "outputs": [
    {
     "data": {
      "text/plain": [
       "0       2844\n",
       "54     23817\n",
       "208    40522\n",
       "236    42876\n",
       "251    44515\n",
       "Name: movie id, dtype: int64"
      ]
     },
     "execution_count": 12,
     "metadata": {},
     "output_type": "execute_result"
    }
   ],
   "source": [
    "cridra_ids=cridra['movie id']\n",
    "cridra_ids.head()"
   ]
  },
  {
   "cell_type": "code",
   "execution_count": 13,
   "metadata": {},
   "outputs": [
    {
     "data": {
      "text/html": [
       "<div>\n",
       "<style scoped>\n",
       "    .dataframe tbody tr th:only-of-type {\n",
       "        vertical-align: middle;\n",
       "    }\n",
       "\n",
       "    .dataframe tbody tr th {\n",
       "        vertical-align: top;\n",
       "    }\n",
       "\n",
       "    .dataframe thead th {\n",
       "        text-align: right;\n",
       "    }\n",
       "</style>\n",
       "<table border=\"1\" class=\"dataframe\">\n",
       "  <thead>\n",
       "    <tr style=\"text-align: right;\">\n",
       "      <th></th>\n",
       "      <th>user id</th>\n",
       "      <th>item id</th>\n",
       "      <th>rating</th>\n",
       "      <th>timestamp</th>\n",
       "    </tr>\n",
       "  </thead>\n",
       "  <tbody>\n",
       "    <tr>\n",
       "      <th>128</th>\n",
       "      <td>18</td>\n",
       "      <td>86066</td>\n",
       "      <td>10</td>\n",
       "      <td>1363985505</td>\n",
       "    </tr>\n",
       "    <tr>\n",
       "      <th>150</th>\n",
       "      <td>23</td>\n",
       "      <td>1212450</td>\n",
       "      <td>8</td>\n",
       "      <td>1364166586</td>\n",
       "    </tr>\n",
       "    <tr>\n",
       "      <th>176</th>\n",
       "      <td>26</td>\n",
       "      <td>1817273</td>\n",
       "      <td>8</td>\n",
       "      <td>1367761386</td>\n",
       "    </tr>\n",
       "    <tr>\n",
       "      <th>194</th>\n",
       "      <td>36</td>\n",
       "      <td>68646</td>\n",
       "      <td>9</td>\n",
       "      <td>1364834910</td>\n",
       "    </tr>\n",
       "    <tr>\n",
       "      <th>195</th>\n",
       "      <td>36</td>\n",
       "      <td>71562</td>\n",
       "      <td>10</td>\n",
       "      <td>1365005772</td>\n",
       "    </tr>\n",
       "  </tbody>\n",
       "</table>\n",
       "</div>"
      ],
      "text/plain": [
       "     user id  item id  rating   timestamp\n",
       "128       18    86066      10  1363985505\n",
       "150       23  1212450       8  1364166586\n",
       "176       26  1817273       8  1367761386\n",
       "194       36    68646       9  1364834910\n",
       "195       36    71562      10  1365005772"
      ]
     },
     "execution_count": 13,
     "metadata": {},
     "output_type": "execute_result"
    }
   ],
   "source": [
    "criterion = ratings['item id'].map(lambda x: (cridra_ids == x).any())\n",
    "cridra_ratings = ratings[criterion]\n",
    "cridra_ratings.head()"
   ]
  },
  {
   "cell_type": "code",
   "execution_count": 14,
   "metadata": {},
   "outputs": [
    {
     "data": {
      "image/png": "[encoded data removed]",
      "text/plain": [
       "<Figure size 432x288 with 1 Axes>"
      ]
     },
     "metadata": {
      "needs_background": "light"
     },
     "output_type": "display_data"
    }
   ],
   "source": [
    "rating_counts = cridra_ratings['rating'].value_counts()\n",
    "sorted_counts = rating_counts.sort_index()\n",
    "sorted_counts.plot(kind='bar', color='SteelBlue')\n",
    "plt.title('Movie ratings for crime dramas')\n",
    "plt.xlabel('Rating')\n",
    "plt.ylabel('Count');"
   ]
  },
  {
   "cell_type": "markdown",
   "metadata": {},
   "source": [
    "# Chapter 2\n",
    "- How to use Pandas to perform an initial exploration of the data.\n",
    "- Performing the initial exploration and cleaning of data\n",
    "- Displays of data, including histograms, KDE (kernel density estimate) plots and boxplots forunivariate distributions, and scatterplots for bivariate relationships.\n",
    "- Giving an initial overview of various point estimates of the data, such as mean, standard deviation, range, median, quartiles, and percentiles."
   ]
  },
  {
   "cell_type": "code",
   "execution_count": 15,
   "metadata": {},
   "outputs": [
    {
     "data": {
      "text/html": [
       "<div>\n",
       "<style scoped>\n",
       "    .dataframe tbody tr th:only-of-type {\n",
       "        vertical-align: middle;\n",
       "    }\n",
       "\n",
       "    .dataframe tbody tr th {\n",
       "        vertical-align: top;\n",
       "    }\n",
       "\n",
       "    .dataframe thead th {\n",
       "        text-align: right;\n",
       "    }\n",
       "</style>\n",
       "<table border=\"1\" class=\"dataframe\">\n",
       "  <thead>\n",
       "    <tr style=\"text-align: right;\">\n",
       "      <th></th>\n",
       "      <th>year</th>\n",
       "      <th>id</th>\n",
       "      <th>wrkstat</th>\n",
       "      <th>hrs1</th>\n",
       "      <th>hrs2</th>\n",
       "      <th>evwork</th>\n",
       "      <th>wrkslf</th>\n",
       "      <th>wrkgovt</th>\n",
       "      <th>occ10</th>\n",
       "      <th>indus10</th>\n",
       "      <th>...</th>\n",
       "      <th>getmar</th>\n",
       "      <th>getmar1</th>\n",
       "      <th>hapornot</th>\n",
       "      <th>grnsign</th>\n",
       "      <th>grnmoney</th>\n",
       "      <th>grndemo</th>\n",
       "      <th>grncon</th>\n",
       "      <th>finan4</th>\n",
       "      <th>enprbus</th>\n",
       "      <th>enprbfam</th>\n",
       "    </tr>\n",
       "  </thead>\n",
       "  <tbody>\n",
       "    <tr>\n",
       "      <th>0</th>\n",
       "      <td>2012</td>\n",
       "      <td>1</td>\n",
       "      <td>2.0</td>\n",
       "      <td>15.0</td>\n",
       "      <td>NaN</td>\n",
       "      <td>NaN</td>\n",
       "      <td>2.0</td>\n",
       "      <td>2.0</td>\n",
       "      <td>4800.0</td>\n",
       "      <td>7470.0</td>\n",
       "      <td>...</td>\n",
       "      <td>NaN</td>\n",
       "      <td>NaN</td>\n",
       "      <td>NaN</td>\n",
       "      <td>NaN</td>\n",
       "      <td>NaN</td>\n",
       "      <td>NaN</td>\n",
       "      <td>NaN</td>\n",
       "      <td>NaN</td>\n",
       "      <td>NaN</td>\n",
       "      <td>NaN</td>\n",
       "    </tr>\n",
       "    <tr>\n",
       "      <th>1</th>\n",
       "      <td>2012</td>\n",
       "      <td>2</td>\n",
       "      <td>2.0</td>\n",
       "      <td>30.0</td>\n",
       "      <td>NaN</td>\n",
       "      <td>NaN</td>\n",
       "      <td>2.0</td>\n",
       "      <td>2.0</td>\n",
       "      <td>2900.0</td>\n",
       "      <td>770.0</td>\n",
       "      <td>...</td>\n",
       "      <td>NaN</td>\n",
       "      <td>NaN</td>\n",
       "      <td>NaN</td>\n",
       "      <td>NaN</td>\n",
       "      <td>NaN</td>\n",
       "      <td>NaN</td>\n",
       "      <td>NaN</td>\n",
       "      <td>NaN</td>\n",
       "      <td>NaN</td>\n",
       "      <td>NaN</td>\n",
       "    </tr>\n",
       "    <tr>\n",
       "      <th>2</th>\n",
       "      <td>2012</td>\n",
       "      <td>3</td>\n",
       "      <td>1.0</td>\n",
       "      <td>60.0</td>\n",
       "      <td>NaN</td>\n",
       "      <td>NaN</td>\n",
       "      <td>2.0</td>\n",
       "      <td>2.0</td>\n",
       "      <td>1320.0</td>\n",
       "      <td>6070.0</td>\n",
       "      <td>...</td>\n",
       "      <td>NaN</td>\n",
       "      <td>NaN</td>\n",
       "      <td>NaN</td>\n",
       "      <td>NaN</td>\n",
       "      <td>NaN</td>\n",
       "      <td>NaN</td>\n",
       "      <td>NaN</td>\n",
       "      <td>NaN</td>\n",
       "      <td>NaN</td>\n",
       "      <td>NaN</td>\n",
       "    </tr>\n",
       "    <tr>\n",
       "      <th>3</th>\n",
       "      <td>2012</td>\n",
       "      <td>4</td>\n",
       "      <td>8.0</td>\n",
       "      <td>NaN</td>\n",
       "      <td>NaN</td>\n",
       "      <td>1.0</td>\n",
       "      <td>2.0</td>\n",
       "      <td>2.0</td>\n",
       "      <td>800.0</td>\n",
       "      <td>6990.0</td>\n",
       "      <td>...</td>\n",
       "      <td>NaN</td>\n",
       "      <td>NaN</td>\n",
       "      <td>NaN</td>\n",
       "      <td>NaN</td>\n",
       "      <td>NaN</td>\n",
       "      <td>NaN</td>\n",
       "      <td>NaN</td>\n",
       "      <td>NaN</td>\n",
       "      <td>NaN</td>\n",
       "      <td>NaN</td>\n",
       "    </tr>\n",
       "    <tr>\n",
       "      <th>4</th>\n",
       "      <td>2012</td>\n",
       "      <td>5</td>\n",
       "      <td>5.0</td>\n",
       "      <td>NaN</td>\n",
       "      <td>NaN</td>\n",
       "      <td>1.0</td>\n",
       "      <td>2.0</td>\n",
       "      <td>1.0</td>\n",
       "      <td>3800.0</td>\n",
       "      <td>9470.0</td>\n",
       "      <td>...</td>\n",
       "      <td>NaN</td>\n",
       "      <td>NaN</td>\n",
       "      <td>NaN</td>\n",
       "      <td>NaN</td>\n",
       "      <td>NaN</td>\n",
       "      <td>NaN</td>\n",
       "      <td>NaN</td>\n",
       "      <td>NaN</td>\n",
       "      <td>NaN</td>\n",
       "      <td>NaN</td>\n",
       "    </tr>\n",
       "  </tbody>\n",
       "</table>\n",
       "<p>5 rows × 1069 columns</p>\n",
       "</div>"
      ],
      "text/plain": [
       "   year  id  wrkstat  hrs1  hrs2  evwork  wrkslf  wrkgovt   occ10  indus10  \\\n",
       "0  2012   1      2.0  15.0   NaN     NaN     2.0      2.0  4800.0   7470.0   \n",
       "1  2012   2      2.0  30.0   NaN     NaN     2.0      2.0  2900.0    770.0   \n",
       "2  2012   3      1.0  60.0   NaN     NaN     2.0      2.0  1320.0   6070.0   \n",
       "3  2012   4      8.0   NaN   NaN     1.0     2.0      2.0   800.0   6990.0   \n",
       "4  2012   5      5.0   NaN   NaN     1.0     2.0      1.0  3800.0   9470.0   \n",
       "\n",
       "   ...  getmar  getmar1  hapornot  grnsign  grnmoney  grndemo  grncon  finan4  \\\n",
       "0  ...     NaN      NaN       NaN      NaN       NaN      NaN     NaN     NaN   \n",
       "1  ...     NaN      NaN       NaN      NaN       NaN      NaN     NaN     NaN   \n",
       "2  ...     NaN      NaN       NaN      NaN       NaN      NaN     NaN     NaN   \n",
       "3  ...     NaN      NaN       NaN      NaN       NaN      NaN     NaN     NaN   \n",
       "4  ...     NaN      NaN       NaN      NaN       NaN      NaN     NaN     NaN   \n",
       "\n",
       "   enprbus  enprbfam  \n",
       "0      NaN       NaN  \n",
       "1      NaN       NaN  \n",
       "2      NaN       NaN  \n",
       "3      NaN       NaN  \n",
       "4      NaN       NaN  \n",
       "\n",
       "[5 rows x 1069 columns]"
      ]
     },
     "execution_count": 15,
     "metadata": {},
     "output_type": "execute_result"
    }
   ],
   "source": [
    "gss_data = pd.read_stata('data/GSS2012merged_R5.dta', convert_categoricals=False)\n",
    "gss_data.head()"
   ]
  },
  {
   "cell_type": "code",
   "execution_count": 16,
   "metadata": {},
   "outputs": [
    {
     "data": {
      "text/html": [
       "<div>\n",
       "<style scoped>\n",
       "    .dataframe tbody tr th:only-of-type {\n",
       "        vertical-align: middle;\n",
       "    }\n",
       "\n",
       "    .dataframe tbody tr th {\n",
       "        vertical-align: top;\n",
       "    }\n",
       "\n",
       "    .dataframe thead th {\n",
       "        text-align: right;\n",
       "    }\n",
       "</style>\n",
       "<table border=\"1\" class=\"dataframe\">\n",
       "  <thead>\n",
       "    <tr style=\"text-align: right;\">\n",
       "      <th></th>\n",
       "      <th>year</th>\n",
       "      <th>wrkstat</th>\n",
       "      <th>hrs1</th>\n",
       "      <th>hrs2</th>\n",
       "      <th>evwork</th>\n",
       "      <th>wrkslf</th>\n",
       "      <th>wrkgovt</th>\n",
       "      <th>occ10</th>\n",
       "      <th>indus10</th>\n",
       "      <th>marital</th>\n",
       "      <th>...</th>\n",
       "      <th>getmar</th>\n",
       "      <th>getmar1</th>\n",
       "      <th>hapornot</th>\n",
       "      <th>grnsign</th>\n",
       "      <th>grnmoney</th>\n",
       "      <th>grndemo</th>\n",
       "      <th>grncon</th>\n",
       "      <th>finan4</th>\n",
       "      <th>enprbus</th>\n",
       "      <th>enprbfam</th>\n",
       "    </tr>\n",
       "  </thead>\n",
       "  <tbody>\n",
       "    <tr>\n",
       "      <th>0</th>\n",
       "      <td>2012</td>\n",
       "      <td>2.0</td>\n",
       "      <td>15.0</td>\n",
       "      <td>NaN</td>\n",
       "      <td>NaN</td>\n",
       "      <td>2.0</td>\n",
       "      <td>2.0</td>\n",
       "      <td>4800.0</td>\n",
       "      <td>7470.0</td>\n",
       "      <td>5.0</td>\n",
       "      <td>...</td>\n",
       "      <td>NaN</td>\n",
       "      <td>NaN</td>\n",
       "      <td>NaN</td>\n",
       "      <td>NaN</td>\n",
       "      <td>NaN</td>\n",
       "      <td>NaN</td>\n",
       "      <td>NaN</td>\n",
       "      <td>NaN</td>\n",
       "      <td>NaN</td>\n",
       "      <td>NaN</td>\n",
       "    </tr>\n",
       "    <tr>\n",
       "      <th>1</th>\n",
       "      <td>2012</td>\n",
       "      <td>2.0</td>\n",
       "      <td>30.0</td>\n",
       "      <td>NaN</td>\n",
       "      <td>NaN</td>\n",
       "      <td>2.0</td>\n",
       "      <td>2.0</td>\n",
       "      <td>2900.0</td>\n",
       "      <td>770.0</td>\n",
       "      <td>5.0</td>\n",
       "      <td>...</td>\n",
       "      <td>NaN</td>\n",
       "      <td>NaN</td>\n",
       "      <td>NaN</td>\n",
       "      <td>NaN</td>\n",
       "      <td>NaN</td>\n",
       "      <td>NaN</td>\n",
       "      <td>NaN</td>\n",
       "      <td>NaN</td>\n",
       "      <td>NaN</td>\n",
       "      <td>NaN</td>\n",
       "    </tr>\n",
       "    <tr>\n",
       "      <th>2</th>\n",
       "      <td>2012</td>\n",
       "      <td>1.0</td>\n",
       "      <td>60.0</td>\n",
       "      <td>NaN</td>\n",
       "      <td>NaN</td>\n",
       "      <td>2.0</td>\n",
       "      <td>2.0</td>\n",
       "      <td>1320.0</td>\n",
       "      <td>6070.0</td>\n",
       "      <td>1.0</td>\n",
       "      <td>...</td>\n",
       "      <td>NaN</td>\n",
       "      <td>NaN</td>\n",
       "      <td>NaN</td>\n",
       "      <td>NaN</td>\n",
       "      <td>NaN</td>\n",
       "      <td>NaN</td>\n",
       "      <td>NaN</td>\n",
       "      <td>NaN</td>\n",
       "      <td>NaN</td>\n",
       "      <td>NaN</td>\n",
       "    </tr>\n",
       "    <tr>\n",
       "      <th>3</th>\n",
       "      <td>2012</td>\n",
       "      <td>8.0</td>\n",
       "      <td>NaN</td>\n",
       "      <td>NaN</td>\n",
       "      <td>1.0</td>\n",
       "      <td>2.0</td>\n",
       "      <td>2.0</td>\n",
       "      <td>800.0</td>\n",
       "      <td>6990.0</td>\n",
       "      <td>1.0</td>\n",
       "      <td>...</td>\n",
       "      <td>NaN</td>\n",
       "      <td>NaN</td>\n",
       "      <td>NaN</td>\n",
       "      <td>NaN</td>\n",
       "      <td>NaN</td>\n",
       "      <td>NaN</td>\n",
       "      <td>NaN</td>\n",
       "      <td>NaN</td>\n",
       "      <td>NaN</td>\n",
       "      <td>NaN</td>\n",
       "    </tr>\n",
       "    <tr>\n",
       "      <th>4</th>\n",
       "      <td>2012</td>\n",
       "      <td>5.0</td>\n",
       "      <td>NaN</td>\n",
       "      <td>NaN</td>\n",
       "      <td>1.0</td>\n",
       "      <td>2.0</td>\n",
       "      <td>1.0</td>\n",
       "      <td>3800.0</td>\n",
       "      <td>9470.0</td>\n",
       "      <td>4.0</td>\n",
       "      <td>...</td>\n",
       "      <td>NaN</td>\n",
       "      <td>NaN</td>\n",
       "      <td>NaN</td>\n",
       "      <td>NaN</td>\n",
       "      <td>NaN</td>\n",
       "      <td>NaN</td>\n",
       "      <td>NaN</td>\n",
       "      <td>NaN</td>\n",
       "      <td>NaN</td>\n",
       "      <td>NaN</td>\n",
       "    </tr>\n",
       "  </tbody>\n",
       "</table>\n",
       "<p>5 rows × 1068 columns</p>\n",
       "</div>"
      ],
      "text/plain": [
       "   year  wrkstat  hrs1  hrs2  evwork  wrkslf  wrkgovt   occ10  indus10  \\\n",
       "0  2012      2.0  15.0   NaN     NaN     2.0      2.0  4800.0   7470.0   \n",
       "1  2012      2.0  30.0   NaN     NaN     2.0      2.0  2900.0    770.0   \n",
       "2  2012      1.0  60.0   NaN     NaN     2.0      2.0  1320.0   6070.0   \n",
       "3  2012      8.0   NaN   NaN     1.0     2.0      2.0   800.0   6990.0   \n",
       "4  2012      5.0   NaN   NaN     1.0     2.0      1.0  3800.0   9470.0   \n",
       "\n",
       "   marital  ...  getmar  getmar1  hapornot  grnsign  grnmoney  grndemo  \\\n",
       "0      5.0  ...     NaN      NaN       NaN      NaN       NaN      NaN   \n",
       "1      5.0  ...     NaN      NaN       NaN      NaN       NaN      NaN   \n",
       "2      1.0  ...     NaN      NaN       NaN      NaN       NaN      NaN   \n",
       "3      1.0  ...     NaN      NaN       NaN      NaN       NaN      NaN   \n",
       "4      4.0  ...     NaN      NaN       NaN      NaN       NaN      NaN   \n",
       "\n",
       "   grncon  finan4  enprbus  enprbfam  \n",
       "0     NaN     NaN      NaN       NaN  \n",
       "1     NaN     NaN      NaN       NaN  \n",
       "2     NaN     NaN      NaN       NaN  \n",
       "3     NaN     NaN      NaN       NaN  \n",
       "4     NaN     NaN      NaN       NaN  \n",
       "\n",
       "[5 rows x 1068 columns]"
      ]
     },
     "execution_count": 16,
     "metadata": {},
     "output_type": "execute_result"
    }
   ],
   "source": [
    "gss_data.set_index('id')\n",
    "gss_data.drop('id', 1, inplace=True)\n",
    "gss_data.head()"
   ]
  },
  {
   "cell_type": "code",
   "execution_count": 17,
   "metadata": {},
   "outputs": [],
   "source": [
    "gss_data.to_csv('data/GSS2012merged.csv')"
   ]
  },
  {
   "cell_type": "code",
   "execution_count": 18,
   "metadata": {},
   "outputs": [
    {
     "data": {
      "image/png": "[encoded data removed]",
      "text/plain": [
       "<Figure size 432x288 with 1 Axes>"
      ]
     },
     "metadata": {
      "needs_background": "light"
     },
     "output_type": "display_data"
    }
   ],
   "source": [
    "gss_data['age'].hist(color='SteelBlue')\n",
    "plt.grid()\n",
    "plt.locator_params(nbins=5)"
   ]
  },
  {
   "cell_type": "code",
   "execution_count": 19,
   "metadata": {},
   "outputs": [
    {
     "data": {
      "image/png": "[encoded data removed]",
      "text/plain": [
       "<Figure size 432x288 with 1 Axes>"
      ]
     },
     "metadata": {
      "needs_background": "light"
     },
     "output_type": "display_data"
    }
   ],
   "source": [
    "gss_data['age'].hist(bins=25, color='SteelBlue')\n",
    "plt.grid()\n",
    "plt.locator_params(nbins=5)"
   ]
  },
  {
   "cell_type": "code",
   "execution_count": 20,
   "metadata": {},
   "outputs": [
    {
     "data": {
      "text/html": [
       "<div>\n",
       "<style scoped>\n",
       "    .dataframe tbody tr th:only-of-type {\n",
       "        vertical-align: middle;\n",
       "    }\n",
       "\n",
       "    .dataframe tbody tr th {\n",
       "        vertical-align: top;\n",
       "    }\n",
       "\n",
       "    .dataframe thead th {\n",
       "        text-align: right;\n",
       "    }\n",
       "</style>\n",
       "<table border=\"1\" class=\"dataframe\">\n",
       "  <thead>\n",
       "    <tr style=\"text-align: right;\">\n",
       "      <th></th>\n",
       "      <th>realrinc</th>\n",
       "      <th>age</th>\n",
       "    </tr>\n",
       "  </thead>\n",
       "  <tbody>\n",
       "    <tr>\n",
       "      <th>0</th>\n",
       "      <td>NaN</td>\n",
       "      <td>22.0</td>\n",
       "    </tr>\n",
       "    <tr>\n",
       "      <th>1</th>\n",
       "      <td>NaN</td>\n",
       "      <td>21.0</td>\n",
       "    </tr>\n",
       "    <tr>\n",
       "      <th>2</th>\n",
       "      <td>58800.0</td>\n",
       "      <td>42.0</td>\n",
       "    </tr>\n",
       "    <tr>\n",
       "      <th>3</th>\n",
       "      <td>NaN</td>\n",
       "      <td>49.0</td>\n",
       "    </tr>\n",
       "    <tr>\n",
       "      <th>4</th>\n",
       "      <td>NaN</td>\n",
       "      <td>70.0</td>\n",
       "    </tr>\n",
       "    <tr>\n",
       "      <th>5</th>\n",
       "      <td>NaN</td>\n",
       "      <td>50.0</td>\n",
       "    </tr>\n",
       "    <tr>\n",
       "      <th>6</th>\n",
       "      <td>NaN</td>\n",
       "      <td>35.0</td>\n",
       "    </tr>\n",
       "    <tr>\n",
       "      <th>7</th>\n",
       "      <td>NaN</td>\n",
       "      <td>24.0</td>\n",
       "    </tr>\n",
       "    <tr>\n",
       "      <th>8</th>\n",
       "      <td>NaN</td>\n",
       "      <td>28.0</td>\n",
       "    </tr>\n",
       "    <tr>\n",
       "      <th>9</th>\n",
       "      <td>15925.0</td>\n",
       "      <td>28.0</td>\n",
       "    </tr>\n",
       "  </tbody>\n",
       "</table>\n",
       "</div>"
      ],
      "text/plain": [
       "   realrinc   age\n",
       "0       NaN  22.0\n",
       "1       NaN  21.0\n",
       "2   58800.0  42.0\n",
       "3       NaN  49.0\n",
       "4       NaN  70.0\n",
       "5       NaN  50.0\n",
       "6       NaN  35.0\n",
       "7       NaN  24.0\n",
       "8       NaN  28.0\n",
       "9   15925.0  28.0"
      ]
     },
     "execution_count": 20,
     "metadata": {},
     "output_type": "execute_result"
    }
   ],
   "source": [
    "inc_age = gss_data[['realrinc','age']]\n",
    "inc_age.head(10)"
   ]
  },
  {
   "cell_type": "code",
   "execution_count": 21,
   "metadata": {},
   "outputs": [
    {
     "data": {
      "text/html": [
       "<div>\n",
       "<style scoped>\n",
       "    .dataframe tbody tr th:only-of-type {\n",
       "        vertical-align: middle;\n",
       "    }\n",
       "\n",
       "    .dataframe tbody tr th {\n",
       "        vertical-align: top;\n",
       "    }\n",
       "\n",
       "    .dataframe thead th {\n",
       "        text-align: right;\n",
       "    }\n",
       "</style>\n",
       "<table border=\"1\" class=\"dataframe\">\n",
       "  <thead>\n",
       "    <tr style=\"text-align: right;\">\n",
       "      <th></th>\n",
       "      <th>realrinc</th>\n",
       "      <th>age</th>\n",
       "    </tr>\n",
       "  </thead>\n",
       "  <tbody>\n",
       "    <tr>\n",
       "      <th>2</th>\n",
       "      <td>58800.0</td>\n",
       "      <td>42.0</td>\n",
       "    </tr>\n",
       "    <tr>\n",
       "      <th>9</th>\n",
       "      <td>15925.0</td>\n",
       "      <td>28.0</td>\n",
       "    </tr>\n",
       "    <tr>\n",
       "      <th>11</th>\n",
       "      <td>3185.0</td>\n",
       "      <td>36.0</td>\n",
       "    </tr>\n",
       "    <tr>\n",
       "      <th>14</th>\n",
       "      <td>7962.5</td>\n",
       "      <td>52.0</td>\n",
       "    </tr>\n",
       "    <tr>\n",
       "      <th>15</th>\n",
       "      <td>26950.0</td>\n",
       "      <td>35.0</td>\n",
       "    </tr>\n",
       "    <tr>\n",
       "      <th>16</th>\n",
       "      <td>26950.0</td>\n",
       "      <td>36.0</td>\n",
       "    </tr>\n",
       "    <tr>\n",
       "      <th>17</th>\n",
       "      <td>22050.0</td>\n",
       "      <td>47.0</td>\n",
       "    </tr>\n",
       "    <tr>\n",
       "      <th>18</th>\n",
       "      <td>33075.0</td>\n",
       "      <td>55.0</td>\n",
       "    </tr>\n",
       "    <tr>\n",
       "      <th>22</th>\n",
       "      <td>33075.0</td>\n",
       "      <td>54.0</td>\n",
       "    </tr>\n",
       "    <tr>\n",
       "      <th>23</th>\n",
       "      <td>49000.0</td>\n",
       "      <td>45.0</td>\n",
       "    </tr>\n",
       "  </tbody>\n",
       "</table>\n",
       "</div>"
      ],
      "text/plain": [
       "    realrinc   age\n",
       "2    58800.0  42.0\n",
       "9    15925.0  28.0\n",
       "11    3185.0  36.0\n",
       "14    7962.5  52.0\n",
       "15   26950.0  35.0\n",
       "16   26950.0  36.0\n",
       "17   22050.0  47.0\n",
       "18   33075.0  55.0\n",
       "22   33075.0  54.0\n",
       "23   49000.0  45.0"
      ]
     },
     "execution_count": 21,
     "metadata": {},
     "output_type": "execute_result"
    }
   ],
   "source": [
    "inc_age = gss_data[['realrinc','age']].dropna()\n",
    "inc_age.head(10)"
   ]
  },
  {
   "cell_type": "code",
   "execution_count": 22,
   "metadata": {},
   "outputs": [
    {
     "data": {
      "image/png": "[encoded data removed]",
      "text/plain": [
       "<Figure size 720x360 with 2 Axes>"
      ]
     },
     "metadata": {
      "needs_background": "light"
     },
     "output_type": "display_data"
    }
   ],
   "source": [
    "ax_list = inc_age.hist(bins=40, figsize=(10,5), xrot=45, color='SteelBlue')\n",
    "for ax in ax_list[0]:\n",
    "    ax.locator_params(axis='x', nbins=6)\n",
    "    ax.locator_params(axis='y', nbins=3)"
   ]
  },
  {
   "cell_type": "code",
   "execution_count": 23,
   "metadata": {},
   "outputs": [
    {
     "data": {
      "text/plain": [
       "realrinc    80\n",
       "age         80\n",
       "dtype: int64"
      ]
     },
     "execution_count": 23,
     "metadata": {},
     "output_type": "execute_result"
    }
   ],
   "source": [
    "inc_age[inc_age['realrinc'] > 3.0E5].count()"
   ]
  },
  {
   "cell_type": "code",
   "execution_count": 24,
   "metadata": {},
   "outputs": [
    {
     "data": {
      "text/html": [
       "<div>\n",
       "<style scoped>\n",
       "    .dataframe tbody tr th:only-of-type {\n",
       "        vertical-align: middle;\n",
       "    }\n",
       "\n",
       "    .dataframe tbody tr th {\n",
       "        vertical-align: top;\n",
       "    }\n",
       "\n",
       "    .dataframe thead th {\n",
       "        text-align: right;\n",
       "    }\n",
       "</style>\n",
       "<table border=\"1\" class=\"dataframe\">\n",
       "  <thead>\n",
       "    <tr style=\"text-align: right;\">\n",
       "      <th></th>\n",
       "      <th>realrinc</th>\n",
       "      <th>age</th>\n",
       "    </tr>\n",
       "  </thead>\n",
       "  <tbody>\n",
       "    <tr>\n",
       "      <th>42</th>\n",
       "      <td>341672.3793</td>\n",
       "      <td>51.0</td>\n",
       "    </tr>\n",
       "    <tr>\n",
       "      <th>43</th>\n",
       "      <td>341672.3793</td>\n",
       "      <td>57.0</td>\n",
       "    </tr>\n",
       "    <tr>\n",
       "      <th>44</th>\n",
       "      <td>341672.3793</td>\n",
       "      <td>44.0</td>\n",
       "    </tr>\n",
       "    <tr>\n",
       "      <th>47</th>\n",
       "      <td>341672.3793</td>\n",
       "      <td>68.0</td>\n",
       "    </tr>\n",
       "    <tr>\n",
       "      <th>54</th>\n",
       "      <td>341672.3793</td>\n",
       "      <td>46.0</td>\n",
       "    </tr>\n",
       "    <tr>\n",
       "      <th>126</th>\n",
       "      <td>341672.3793</td>\n",
       "      <td>53.0</td>\n",
       "    </tr>\n",
       "    <tr>\n",
       "      <th>241</th>\n",
       "      <td>341672.3793</td>\n",
       "      <td>61.0</td>\n",
       "    </tr>\n",
       "    <tr>\n",
       "      <th>261</th>\n",
       "      <td>341672.3793</td>\n",
       "      <td>55.0</td>\n",
       "    </tr>\n",
       "    <tr>\n",
       "      <th>263</th>\n",
       "      <td>341672.3793</td>\n",
       "      <td>43.0</td>\n",
       "    </tr>\n",
       "    <tr>\n",
       "      <th>401</th>\n",
       "      <td>341672.3793</td>\n",
       "      <td>37.0</td>\n",
       "    </tr>\n",
       "  </tbody>\n",
       "</table>\n",
       "</div>"
      ],
      "text/plain": [
       "        realrinc   age\n",
       "42   341672.3793  51.0\n",
       "43   341672.3793  57.0\n",
       "44   341672.3793  44.0\n",
       "47   341672.3793  68.0\n",
       "54   341672.3793  46.0\n",
       "126  341672.3793  53.0\n",
       "241  341672.3793  61.0\n",
       "261  341672.3793  55.0\n",
       "263  341672.3793  43.0\n",
       "401  341672.3793  37.0"
      ]
     },
     "execution_count": 24,
     "metadata": {},
     "output_type": "execute_result"
    }
   ],
   "source": [
    "inc_age[inc_age['realrinc'] >3.0E5].head(10)"
   ]
  },
  {
   "cell_type": "code",
   "execution_count": 25,
   "metadata": {},
   "outputs": [
    {
     "data": {
      "image/png": "[encoded data removed]",
      "text/plain": [
       "<Figure size 720x360 with 2 Axes>"
      ]
     },
     "metadata": {
      "needs_background": "light"
     },
     "output_type": "display_data"
    }
   ],
   "source": [
    "lowinc_age = inc_age[inc_age['realrinc'] <3.0E5]\n",
    "ax_list = lowinc_age.hist(bins=20, figsize=(10,5), xrot=45, color='SteelBlue')\n",
    "ax1, ax2 = ax_list[0]\n",
    "ax1.set_title('Age (years)')\n",
    "ax2.set_title('Real Income ($)')\n",
    "for ax in ax_list[0]:\n",
    "    ax.grid()\n",
    "    ax.locator_params(axis='x' ,nbins=6)\n",
    "    ax.locator_params(axis='y' ,nbins=3)"
   ]
  },
  {
   "cell_type": "code",
   "execution_count": 26,
   "metadata": {},
   "outputs": [
    {
     "data": {
      "image/png": "[encoded data removed]",
      "text/plain": [
       "<Figure size 432x288 with 1 Axes>"
      ]
     },
     "metadata": {
      "needs_background": "light"
     },
     "output_type": "display_data"
    }
   ],
   "source": [
    "age = gss_data['age'].dropna()\n",
    "age.plot(kind='kde', lw=2, color='green')\n",
    "plt.title('KDE plot for Age')\n",
    "plt.xlabel('Age (years)');"
   ]
  },
  {
   "cell_type": "code",
   "execution_count": 27,
   "metadata": {},
   "outputs": [
    {
     "data": {
      "image/png": "[encoded data removed]",
      "text/plain": [
       "<Figure size 432x288 with 1 Axes>"
      ]
     },
     "metadata": {
      "needs_background": "light"
     },
     "output_type": "display_data"
    }
   ],
   "source": [
    "ax = age.hist(bins=30, color='LightSteelBlue', density=True)\n",
    "age.plot(kind='kde', lw=2, color='Green', ax=ax)\n",
    "plt.title('Histogram and KDE for Age')\n",
    "plt.xlabel('Age (years)');"
   ]
  },
  {
   "cell_type": "code",
   "execution_count": 28,
   "metadata": {},
   "outputs": [
    {
     "data": {
      "image/png": "[encoded data removed]",
      "text/plain": [
       "<Figure size 432x288 with 1 Axes>"
      ]
     },
     "metadata": {
      "needs_background": "light"
     },
     "output_type": "display_data"
    }
   ],
   "source": [
    "stats.probplot(age, dist='norm', plot=plt);"
   ]
  },
  {
   "cell_type": "code",
   "execution_count": 29,
   "metadata": {},
   "outputs": [
    {
     "data": {
      "text/plain": [
       "count     2751.000000\n",
       "mean     18582.194656\n",
       "std      14841.581333\n",
       "min        245.000000\n",
       "0%         245.000000\n",
       "10%       2695.000000\n",
       "20%       5512.500000\n",
       "30.0%     9187.500000\n",
       "40%      11637.500000\n",
       "50%      15925.000000\n",
       "60.0%    18375.000000\n",
       "70%      22050.000000\n",
       "80%      26950.000000\n",
       "90%      40425.000000\n",
       "max      68600.000000\n",
       "Name: realrinc, dtype: float64"
      ]
     },
     "execution_count": 29,
     "metadata": {},
     "output_type": "execute_result"
    }
   ],
   "source": [
    "inc = gss_data['realrinc'].dropna()\n",
    "lowinc = inc[inc <3.0E5]\n",
    "lowinc.describe(percentiles=np.arange(0, 1.0, 0.1))"
   ]
  },
  {
   "cell_type": "code",
   "execution_count": 30,
   "metadata": {},
   "outputs": [
    {
     "data": {
      "image/png": "[encoded data removed]",
      "text/plain": [
       "<Figure size 720x504 with 1 Axes>"
      ]
     },
     "metadata": {
      "needs_background": "light"
     },
     "output_type": "display_data"
    }
   ],
   "source": [
    "lowinc.plot(kind='box', figsize=(10,7));#Histogram+kind='hist' ; KDE=kind='kde'"
   ]
  },
  {
   "cell_type": "code",
   "execution_count": 31,
   "metadata": {},
   "outputs": [
    {
     "data": {
      "image/png": "[encoded data removed]",
      "text/plain": [
       "<Figure size 720x504 with 1 Axes>"
      ]
     },
     "metadata": {
      "needs_background": "light"
     },
     "output_type": "display_data"
    }
   ],
   "source": [
    "inc_gen = gss_data[['realrinc','sex']]\n",
    "inc_gen = inc_gen[inc_gen['realrinc'] < 3.0E5]\n",
    "inc_gen.boxplot(column='realrinc', by='sex',figsize=(10,7))\n",
    "plt.title('')\n",
    "plt.locator_params(nbins=5);"
   ]
  },
  {
   "cell_type": "code",
   "execution_count": 32,
   "metadata": {},
   "outputs": [
    {
     "data": {
      "text/html": [
       "<div>\n",
       "<style scoped>\n",
       "    .dataframe tbody tr th:only-of-type {\n",
       "        vertical-align: middle;\n",
       "    }\n",
       "\n",
       "    .dataframe tbody tr th {\n",
       "        vertical-align: top;\n",
       "    }\n",
       "\n",
       "    .dataframe thead th {\n",
       "        text-align: right;\n",
       "    }\n",
       "</style>\n",
       "<table border=\"1\" class=\"dataframe\">\n",
       "  <thead>\n",
       "    <tr style=\"text-align: right;\">\n",
       "      <th></th>\n",
       "      <th>id</th>\n",
       "      <th>r</th>\n",
       "      <th>v</th>\n",
       "    </tr>\n",
       "  </thead>\n",
       "  <tbody>\n",
       "    <tr>\n",
       "      <th>0</th>\n",
       "      <td>SMC</td>\n",
       "      <td>0.032</td>\n",
       "      <td>170</td>\n",
       "    </tr>\n",
       "    <tr>\n",
       "      <th>1</th>\n",
       "      <td>5194</td>\n",
       "      <td>0.500</td>\n",
       "      <td>270</td>\n",
       "    </tr>\n",
       "    <tr>\n",
       "      <th>2</th>\n",
       "      <td>1055</td>\n",
       "      <td>1.100</td>\n",
       "      <td>450</td>\n",
       "    </tr>\n",
       "    <tr>\n",
       "      <th>3</th>\n",
       "      <td>LMC</td>\n",
       "      <td>0.034</td>\n",
       "      <td>290</td>\n",
       "    </tr>\n",
       "    <tr>\n",
       "      <th>4</th>\n",
       "      <td>4449</td>\n",
       "      <td>0.630</td>\n",
       "      <td>200</td>\n",
       "    </tr>\n",
       "  </tbody>\n",
       "</table>\n",
       "</div>"
      ],
      "text/plain": [
       "     id      r    v\n",
       "0   SMC  0.032  170\n",
       "1  5194  0.500  270\n",
       "2  1055  1.100  450\n",
       "3   LMC  0.034  290\n",
       "4  4449  0.630  200"
      ]
     },
     "execution_count": 32,
     "metadata": {},
     "output_type": "execute_result"
    }
   ],
   "source": [
    "hubble_data = pd.read_csv('data/hubble.csv', skiprows=2, names=['id', 'r', 'v'])\n",
    "hubble_data.head()"
   ]
  },
  {
   "cell_type": "code",
   "execution_count": 33,
   "metadata": {},
   "outputs": [
    {
     "data": {
      "image/png": "[encoded data removed]",
      "text/plain": [
       "<Figure size 432x288 with 1 Axes>"
      ]
     },
     "metadata": {
      "needs_background": "light"
     },
     "output_type": "display_data"
    }
   ],
   "source": [
    "hubble_data.plot(kind='scatter', x='r',y='v', s=50);"
   ]
  },
  {
   "cell_type": "code",
   "execution_count": 34,
   "metadata": {},
   "outputs": [
    {
     "name": "stdout",
     "output_type": "stream",
     "text": [
      "454.15844092262836 -40.78364909586037 0.7896394879353182 4.477491000609172e-06 75.23710534716909\n"
     ]
    },
    {
     "name": "stderr",
     "output_type": "stream",
     "text": [
      "C:\\ProgramData\\Anaconda3\\lib\\site-packages\\ipykernel_launcher.py:1: FutureWarning: Method .as_matrix will be removed in a future version. Use .values instead.\n",
      "  \"\"\"Entry point for launching an IPython kernel.\n"
     ]
    }
   ],
   "source": [
    "rv = hubble_data.as_matrix(columns=['r','v'])\n",
    "a, b, r, p, stderr = linregress(rv)\n",
    "print(a, b, r, p, stderr)"
   ]
  },
  {
   "cell_type": "markdown",
   "metadata": {},
   "source": [
    "> a: This is the slope of the regression line\n",
    "b: This is the intercept of the regression line\n",
    "r: This is the correlation coefficient\n",
    "p: This is the two-sided p-value for the hypotheses test-for the null hypothesis that\n",
    "assumes the slope is zero\n",
    "stderr: This is the standard error of the estimate"
   ]
  },
  {
   "cell_type": "code",
   "execution_count": 35,
   "metadata": {},
   "outputs": [
    {
     "data": {
      "image/png": "[encoded data removed]",
      "text/plain": [
       "<Figure size 432x288 with 1 Axes>"
      ]
     },
     "metadata": {
      "needs_background": "light"
     },
     "output_type": "display_data"
    }
   ],
   "source": [
    "hubble_data.plot(kind='scatter', x='r', y='v')\n",
    "rdata = hubble_data['r']\n",
    "rmin, rmax = min(rdata), max(rdata)\n",
    "rvalues = np.linspace(rmin, rmax, 200)\n",
    "yvalues = a * rvalues + b\n",
    "plt.plot(rvalues, yvalues, color='red', lw=1.5)\n",
    "plt.locator_params(nbins=5);"
   ]
  },
  {
   "cell_type": "markdown",
   "metadata": {},
   "source": [
    "# Chapter 3\n",
    "- Using basic models in data analysis\n",
    "- Using the cumulative distribution function and probability density function to characterize a variable\n",
    "- Using the preceding functions and various tools to make point estimates and generating random numbers with a certain distribution\n",
    "- Discussing examples of discrete and continuous random variables and an overview of multivariate distributions"
   ]
  },
  {
   "cell_type": "code",
   "execution_count": 36,
   "metadata": {},
   "outputs": [
    {
     "name": "stdout",
     "output_type": "stream",
     "text": [
      "[-0.13670483 -0.29590071 -0.99647441 -0.21558545  1.43280073  0.12369869\n",
      " -0.7963382   1.12181218 -0.99340296 -0.12589762]\n"
     ]
    }
   ],
   "source": [
    "mean = 0\n",
    "sdev = 1\n",
    "nvalues = 10\n",
    "norm_variate = mean + sdev * rnd.randn(nvalues)\n",
    "print(norm_variate)"
   ]
  },
  {
   "cell_type": "code",
   "execution_count": 37,
   "metadata": {},
   "outputs": [
    {
     "name": "stdout",
     "output_type": "stream",
     "text": [
      " 1 -0.9965\n",
      " 2 -0.9934\n",
      " 3 -0.7963\n",
      " 4 -0.2959\n",
      " 5 -0.2156\n",
      " 6 -0.1367\n",
      " 7 -0.1259\n",
      " 8 +0.1237\n",
      " 9 +1.1218\n",
      "10 +1.4328\n"
     ]
    }
   ],
   "source": [
    "for i, v in enumerate(sorted(norm_variate), start=1):\n",
    "    print('{0:2d} {1:+.4f}'.format(i, v))"
   ]
  },
  {
   "cell_type": "code",
   "execution_count": 38,
   "metadata": {},
   "outputs": [],
   "source": [
    "def plot_cdf(data, plot_range=None, scale_to=None, **kwargs):\n",
    "    num_bins= len(data)\n",
    "    sorted_data = np.array(sorted(data), dtype=np.float64)\n",
    "    data_range = sorted_data[-1] - sorted_data[0]\n",
    "    counts, bin_edges = np.histogram(sorted_data, bins=num_bins)\n",
    "    xvalues = bin_edges[1:]\n",
    "    yvalues = np.cumsum(counts)\n",
    "    if plot_range is None:\n",
    "        xmin = xvalues[0]\n",
    "        xmax = xvalues[-1]\n",
    "    else:\n",
    "        xmin, xmax = plot_range\n",
    "    # pad the arrays\n",
    "    xvalues = np.concatenate([[xmin, xvalues[0]], xvalues, [xmax]])\n",
    "    yvalues = np.concatenate([[0.0, 0.0],        yvalues, [yvalues.max()]])\n",
    "    if scale_to:\n",
    "        yvalues = yvalues / len(data) * scale_to\n",
    "    plt.axis([xmin, xmax, 0, yvalues.max()])\n",
    "    return plt.step(xvalues, yvalues, **kwargs)"
   ]
  },
  {
   "cell_type": "code",
   "execution_count": 39,
   "metadata": {},
   "outputs": [
    {
     "data": {
      "image/png": "[encoded data removed]",
      "text/plain": [
       "<Figure size 432x288 with 1 Axes>"
      ]
     },
     "metadata": {
      "needs_background": "light"
     },
     "output_type": "display_data"
    }
   ],
   "source": [
    "nvalues = 20\n",
    "#rnd.seed(123) # to get identical results every time\n",
    "norm_variates = rnd.randn(nvalues)\n",
    "axes = plot_cdf(norm_variates, plot_range=[-6,3], scale_to=1., \n",
    "         lw=2.5, color='Brown')\n",
    "for v in [0.25, 0.5, 0.75, 1.0]:\n",
    "    plt.axhline(v, lw=1, ls='--', color='black')"
   ]
  },
  {
   "cell_type": "code",
   "execution_count": 40,
   "metadata": {},
   "outputs": [
    {
     "name": "stdout",
     "output_type": "stream",
     "text": [
      "[36 37 38 38 39 39 40 40 40 40 41 41 41 41 41 41 42 42 42 42 42 42 42 43\n",
      " 43 43 43 43 43 43 43 44 44 44 44 44 44 44 44 44 45 45 45 45 45 45 45 45\n",
      " 45 45 46 46 46 46 46 46 46 46 46 46 47 47 47 47 47 47 47 47 47 48 48 48\n",
      " 48 48 48 48 48 49 49 49 49 49 49 49 50 50 50 50 50 50 51 51 51 51 52 52\n",
      " 53 53 54 55]\n"
     ]
    }
   ],
   "source": [
    "wing_lengths = np.fromfile('data/housefly-wing-lengths.txt', sep='\\n', dtype=np.int64)\n",
    "print(wing_lengths)"
   ]
  },
  {
   "cell_type": "code",
   "execution_count": 41,
   "metadata": {},
   "outputs": [
    {
     "data": {
      "image/png": "[encoded data removed]",
      "text/plain": [
       "<Figure size 432x288 with 1 Axes>"
      ]
     },
     "metadata": {
      "needs_background": "light"
     },
     "output_type": "display_data"
    }
   ],
   "source": [
    "plot_cdf(wing_lengths, plot_range=[30, 60], scale_to=100, lw=2)\n",
    "plt.grid(lw=1)\n",
    "plt.xlabel('Housefly wing length (x.1mm)', fontsize=18)\n",
    "plt.ylabel('Percent', fontsize=18);"
   ]
  },
  {
   "cell_type": "markdown",
   "metadata": {},
   "source": [
    "###### Scipy.stats Methods\n",
    "|Function | Description|\n",
    "|:---------| :-----------|\n",
    "|rvs()  | Random variates, that is, pseudorandom number generation|\n",
    "|cdf()  | Cumulative distribution function|\n",
    "|pdf() or pmf() | Probability density function (for continuous variables) and probability mass function (for discrete variables)|\n",
    "|ppf() | Percent point function, the inverse of the cumulative distribution function|\n",
    "|stats() | Compute statistics (moments) for distribution|\n",
    "|mean(), std(),or var() | Compute mean, standard deviation, and variance, respectively|\n",
    "|fit() | Fit data to the distribution and return the parameters for the shape,location, and scale parameters from the data|"
   ]
  },
  {
   "cell_type": "code",
   "execution_count": 42,
   "metadata": {},
   "outputs": [],
   "source": [
    "N = 4857\n",
    "mean = 63.8\n",
    "serror = 0.06\n",
    "sdev = serror * np.sqrt(N)\n",
    "rvnorm = stats.norm(loc=mean, scale=sdev)"
   ]
  },
  {
   "cell_type": "code",
   "execution_count": 43,
   "metadata": {},
   "outputs": [
    {
     "data": {
      "image/png": "[encoded data removed]",
      "text/plain": [
       "<Figure size 576x216 with 2 Axes>"
      ]
     },
     "metadata": {
      "needs_background": "light"
     },
     "output_type": "display_data"
    }
   ],
   "source": [
    "xmin = mean-3*sdev\n",
    "xmax = mean+3*sdev\n",
    "xx = np.linspace(xmin,xmax,200)\n",
    "plt.figure(figsize=(8,3))\n",
    "plt.subplot(1,2,1)\n",
    "plt.plot(xx, rvnorm.cdf(xx))\n",
    "plt.title('Cumulative distribution function')\n",
    "plt.xlabel('Height (in)')\n",
    "plt.ylabel('Proportion of women')\n",
    "plt.axis([xmin, xmax, 0.0, 1.0])\n",
    "plt.subplot(1,2,2)\n",
    "plt.plot(xx, rvnorm.pdf(xx))\n",
    "plt.title('Probability density function')\n",
    "plt.xlabel('Height (in)')\n",
    "plt.axis([xmin, xmax, 0.0, 0.1]);"
   ]
  },
  {
   "cell_type": "code",
   "execution_count": 44,
   "metadata": {},
   "outputs": [
    {
     "data": {
      "text/plain": [
       "0.8424111333807798"
      ]
     },
     "execution_count": 44,
     "metadata": {},
     "output_type": "execute_result"
    }
   ],
   "source": [
    "rvnorm.cdf(68)"
   ]
  },
  {
   "cell_type": "code",
   "execution_count": 45,
   "metadata": {},
   "outputs": [
    {
     "data": {
      "text/plain": [
       "0.4241384277767544"
      ]
     },
     "execution_count": 45,
     "metadata": {},
     "output_type": "execute_result"
    }
   ],
   "source": [
    "rvnorm.cdf(63)"
   ]
  },
  {
   "cell_type": "code",
   "execution_count": 46,
   "metadata": {},
   "outputs": [
    {
     "data": {
      "text/plain": [
       "41.82727056040253"
      ]
     },
     "execution_count": 46,
     "metadata": {},
     "output_type": "execute_result"
    }
   ],
   "source": [
    "100 * (rvnorm.cdf(68) - rvnorm.cdf(63))"
   ]
  },
  {
   "cell_type": "code",
   "execution_count": 47,
   "metadata": {},
   "outputs": [
    {
     "name": "stdout",
     "output_type": "stream",
     "text": [
      "  Petite: 29.86\n",
      " Average: 41.83\n",
      "    Tall: 11.50\n"
     ]
    }
   ],
   "source": [
    "categories = [\n",
    "    ('Petite', 59, 63),\n",
    "    ('Average', 63, 68),\n",
    "    ('Tall', 68, 71),\n",
    "]\n",
    "for cat, vmin, vmax in categories:\n",
    "    percent = 100*(rvnorm.cdf(vmax)-rvnorm.cdf(vmin))\n",
    "    print('{0:>8s}: {1:.2f}'.format(cat, percent))"
   ]
  },
  {
   "cell_type": "code",
   "execution_count": 48,
   "metadata": {},
   "outputs": [
    {
     "name": "stdout",
     "output_type": "stream",
     "text": [
      "12.55038986608284 4.254767214713451 16.805157080796292\n"
     ]
    }
   ],
   "source": [
    "too_short = 100*rvnorm.cdf(59)\n",
    "too_tall = 100*(1 - rvnorm.cdf(71))\n",
    "unclassified = too_short + too_tall\n",
    "print(too_short, too_tall, unclassified)"
   ]
  },
  {
   "cell_type": "code",
   "execution_count": 49,
   "metadata": {},
   "outputs": [
    {
     "name": "stdout",
     "output_type": "stream",
     "text": [
      "60.97960032166886 66.62039967833113\n"
     ]
    }
   ],
   "source": [
    "a = rvnorm.ppf(0.25)\n",
    "b = rvnorm.ppf(0.75)\n",
    "print (a, b)"
   ]
  },
  {
   "cell_type": "markdown",
   "metadata": {},
   "source": [
    "- The mean is the average value of the distribution. As the distribution is symmetric, it coincides with the median.\n",
    "- The variance is the square of the standard deviation. It is defined as the average value of the square of the deviation from the mean.\n",
    "- The skew measures the asymmetry of the distribution. As the Normal distribution is symmetric, the skew is zero.\n",
    "- The kurtosis indicates how the distribution peaks: does it have a sharp peak or a flatter bump? The value of kurtosis for the Normal distribution is zero because it is used as a reference distribution."
   ]
  },
  {
   "cell_type": "code",
   "execution_count": 50,
   "metadata": {},
   "outputs": [
    {
     "name": "stdout",
     "output_type": "stream",
     "text": [
      "63.8 17.485200000000003 0.0 0.0\n"
     ]
    }
   ],
   "source": [
    "mean, variance, skew, kurtosis = rvnorm.stats(moments='mvks')\n",
    "print(mean, variance, skew, kurtosis)"
   ]
  },
  {
   "cell_type": "code",
   "execution_count": 51,
   "metadata": {},
   "outputs": [],
   "source": [
    "eta = 1.0\n",
    "beta = 1.5\n",
    "rvweib = stats.weibull_min(beta, scale=eta)"
   ]
  },
  {
   "cell_type": "code",
   "execution_count": 52,
   "metadata": {},
   "outputs": [
    {
     "name": "stdout",
     "output_type": "stream",
     "text": [
      "[0.5257537  0.10533621 0.3038986  1.01076791 2.27545251 0.50793988\n",
      " 1.12265866 2.36613121 1.18937674 1.07733955]\n"
     ]
    }
   ],
   "source": [
    "weib_variates = rvweib.rvs(size=500)\n",
    "print(weib_variates[:10])"
   ]
  },
  {
   "cell_type": "code",
   "execution_count": 53,
   "metadata": {},
   "outputs": [
    {
     "data": {
      "image/png": "[encoded data removed]",
      "text/plain": [
       "<Figure size 432x288 with 1 Axes>"
      ]
     },
     "metadata": {
      "needs_background": "light"
     },
     "output_type": "display_data"
    }
   ],
   "source": [
    "weib_df = DataFrame(weib_variates,columns=['weibull_variate'])\n",
    "weib_df.hist(bins=30,color='steelblue');"
   ]
  },
  {
   "cell_type": "code",
   "execution_count": 54,
   "metadata": {},
   "outputs": [
    {
     "data": {
      "image/png": "[encoded data removed]",
      "text/plain": [
       "<Figure size 432x288 with 1 Axes>"
      ]
     },
     "metadata": {
      "needs_background": "light"
     },
     "output_type": "display_data"
    }
   ],
   "source": [
    "xmin = 0\n",
    "xmax = 3.5\n",
    "xx = np.linspace(xmin,xmax,200)\n",
    "plt.plot(xx, rvweib.cdf(xx), color='orange', lw=5)\n",
    "plot_cdf(weib_variates, plot_range=[xmin, xmax], scale_to=1, lw=2,\n",
    "color='green')\n",
    "plt.axis([xmin, xmax, 0, 1])\n",
    "plt.title('Weibul distribution simulation', fontsize=14)\n",
    "plt.xlabel('Failure Time', fontsize=12);"
   ]
  },
  {
   "cell_type": "code",
   "execution_count": 55,
   "metadata": {},
   "outputs": [
    {
     "name": "stdout",
     "output_type": "stream",
     "text": [
      "45.5 3.9\n"
     ]
    }
   ],
   "source": [
    "wing_lengths = np.fromfile('data/housefly-wing-lengths.txt', sep='\\n', dtype=np.int64)\n",
    "mean, std = stats.norm.fit(wing_lengths)\n",
    "print(mean, std)"
   ]
  },
  {
   "cell_type": "code",
   "execution_count": 56,
   "metadata": {},
   "outputs": [
    {
     "data": {
      "image/png": "[encoded data removed]",
      "text/plain": [
       "<Figure size 432x288 with 1 Axes>"
      ]
     },
     "metadata": {
      "needs_background": "light"
     },
     "output_type": "display_data"
    }
   ],
   "source": [
    "stats.probplot(wing_lengths, dist='norm', plot=plt)\n",
    "plt.grid(lw=1.5, ls='dashed');"
   ]
  },
  {
   "cell_type": "code",
   "execution_count": 57,
   "metadata": {},
   "outputs": [],
   "source": [
    "N = 20\n",
    "p = 0.5\n",
    "rv_binom = stats.binom(N, p)"
   ]
  },
  {
   "cell_type": "code",
   "execution_count": 58,
   "metadata": {},
   "outputs": [
    {
     "data": {
      "text/plain": [
       "0.12013435363769531"
      ]
     },
     "execution_count": 58,
     "metadata": {},
     "output_type": "execute_result"
    }
   ],
   "source": [
    "rv_binom.pmf(12)"
   ]
  },
  {
   "cell_type": "code",
   "execution_count": 59,
   "metadata": {},
   "outputs": [
    {
     "data": {
      "text/plain": [
       "0.13158798217773435"
      ]
     },
     "execution_count": 59,
     "metadata": {},
     "output_type": "execute_result"
    }
   ],
   "source": [
    "rv_binom.cdf(7)"
   ]
  },
  {
   "cell_type": "code",
   "execution_count": 60,
   "metadata": {},
   "outputs": [
    {
     "data": {
      "image/png": "[encoded data removed]",
      "text/plain": [
       "<Figure size 648x252 with 2 Axes>"
      ]
     },
     "metadata": {
      "needs_background": "light"
     },
     "output_type": "display_data"
    }
   ],
   "source": [
    "xx = np.arange(N+1)\n",
    "cdf = rv_binom.cdf(xx)\n",
    "pmf = rv_binom.pmf(xx)\n",
    "xvalues = np.arange(N+1)\n",
    "plt.figure(figsize=(9,3.5))\n",
    "plt.subplot(1,2,1)\n",
    "plt.step(xvalues, cdf, lw=2, color='brown')\n",
    "plt.grid(lw=1, ls='dashed')\n",
    "plt.title('Binomial cdf, $N=20$, $p=0.5$', fontsize=16)\n",
    "plt.subplot(1,2,2)\n",
    "left = xx - 0.5\n",
    "plt.bar(left, pmf, 1.0, color='CornflowerBlue')\n",
    "plt.title('Binomial pmf, $N=20$, $p=0.5$', fontsize=16)\n",
    "plt.axis([0, 20, 0, .18]);"
   ]
  },
  {
   "cell_type": "code",
   "execution_count": 61,
   "metadata": {},
   "outputs": [
    {
     "name": "stdout",
     "output_type": "stream",
     "text": [
      "10.0 2.23606797749979\n"
     ]
    }
   ],
   "source": [
    "mean = rv_binom.mean()\n",
    "std = rv_binom.std()\n",
    "print(mean, std)"
   ]
  },
  {
   "cell_type": "code",
   "execution_count": 62,
   "metadata": {},
   "outputs": [
    {
     "name": "stdout",
     "output_type": "stream",
     "text": [
      "10.0 2.23606797749979\n"
     ]
    }
   ],
   "source": [
    "mean = N * p\n",
    "std = np.sqrt(N * p * (1 - p))\n",
    "print(mean, std)"
   ]
  },
  {
   "cell_type": "code",
   "execution_count": 63,
   "metadata": {},
   "outputs": [
    {
     "data": {
      "text/html": [
       "<div>\n",
       "<style scoped>\n",
       "    .dataframe tbody tr th:only-of-type {\n",
       "        vertical-align: middle;\n",
       "    }\n",
       "\n",
       "    .dataframe tbody tr th {\n",
       "        vertical-align: top;\n",
       "    }\n",
       "\n",
       "    .dataframe thead th {\n",
       "        text-align: right;\n",
       "    }\n",
       "</style>\n",
       "<table border=\"1\" class=\"dataframe\">\n",
       "  <thead>\n",
       "    <tr style=\"text-align: right;\">\n",
       "      <th></th>\n",
       "      <th>Z1</th>\n",
       "      <th>Z2</th>\n",
       "    </tr>\n",
       "  </thead>\n",
       "  <tbody>\n",
       "    <tr>\n",
       "      <th>0</th>\n",
       "      <td>0.328296</td>\n",
       "      <td>0.238395</td>\n",
       "    </tr>\n",
       "    <tr>\n",
       "      <th>1</th>\n",
       "      <td>1.012016</td>\n",
       "      <td>-0.357258</td>\n",
       "    </tr>\n",
       "    <tr>\n",
       "      <th>2</th>\n",
       "      <td>-1.010629</td>\n",
       "      <td>0.347026</td>\n",
       "    </tr>\n",
       "    <tr>\n",
       "      <th>3</th>\n",
       "      <td>-1.035720</td>\n",
       "      <td>0.605294</td>\n",
       "    </tr>\n",
       "    <tr>\n",
       "      <th>4</th>\n",
       "      <td>2.431948</td>\n",
       "      <td>-0.617795</td>\n",
       "    </tr>\n",
       "    <tr>\n",
       "      <th>5</th>\n",
       "      <td>-0.888433</td>\n",
       "      <td>0.350634</td>\n",
       "    </tr>\n",
       "    <tr>\n",
       "      <th>6</th>\n",
       "      <td>0.990252</td>\n",
       "      <td>0.410135</td>\n",
       "    </tr>\n",
       "    <tr>\n",
       "      <th>7</th>\n",
       "      <td>-0.245438</td>\n",
       "      <td>1.047462</td>\n",
       "    </tr>\n",
       "    <tr>\n",
       "      <th>8</th>\n",
       "      <td>0.703064</td>\n",
       "      <td>-0.126068</td>\n",
       "    </tr>\n",
       "    <tr>\n",
       "      <th>9</th>\n",
       "      <td>-0.774709</td>\n",
       "      <td>0.111393</td>\n",
       "    </tr>\n",
       "  </tbody>\n",
       "</table>\n",
       "</div>"
      ],
      "text/plain": [
       "         Z1        Z2\n",
       "0  0.328296  0.238395\n",
       "1  1.012016 -0.357258\n",
       "2 -1.010629  0.347026\n",
       "3 -1.035720  0.605294\n",
       "4  2.431948 -0.617795\n",
       "5 -0.888433  0.350634\n",
       "6  0.990252  0.410135\n",
       "7 -0.245438  1.047462\n",
       "8  0.703064 -0.126068\n",
       "9 -0.774709  0.111393"
      ]
     },
     "execution_count": 63,
     "metadata": {},
     "output_type": "execute_result"
    }
   ],
   "source": [
    "binorm_variates = stats.multivariate_normal.rvs(mean=[0,0], size=300)\n",
    "df = DataFrame(binorm_variates, columns=['Z1', 'Z2'])\n",
    "df.head(10)"
   ]
  },
  {
   "cell_type": "code",
   "execution_count": 64,
   "metadata": {},
   "outputs": [
    {
     "data": {
      "image/png": "[encoded data removed]",
      "text/plain": [
       "<Figure size 432x288 with 1 Axes>"
      ]
     },
     "metadata": {
      "needs_background": "light"
     },
     "output_type": "display_data"
    }
   ],
   "source": [
    "df.plot(kind='scatter', x='Z1', y='Z2')\n",
    "plt.title('Bivariate Normal Distribution')\n",
    "plt.axis([-4,4,-4,4]);"
   ]
  },
  {
   "cell_type": "markdown",
   "metadata": {},
   "source": [
    "# Chapter 4\n",
    "##### Regression\n",
    "- Linear regression\n",
    "- Multiple regression\n",
    "- Logistic regression"
   ]
  },
  {
   "cell_type": "code",
   "execution_count": 65,
   "metadata": {},
   "outputs": [],
   "source": [
    "#suicide_rate_url = 'http://apps.who.int/gho/athena/data/xmart.csv?target=GHO/MH_12&profile=crosstable&filter=COUNTRY:*;REGION:*&x-sideaxis=COUNTRY&x-topaxis=GHO;YEAR;SEX'\n",
    "#local_filename, headers = urllib.request.urlretrieve(suicide_rate_url, filename='data/who_suicide_rates.csv')"
   ]
  },
  {
   "cell_type": "code",
   "execution_count": 66,
   "metadata": {},
   "outputs": [
    {
     "data": {
      "text/html": [
       "<div>\n",
       "<style scoped>\n",
       "    .dataframe tbody tr th:only-of-type {\n",
       "        vertical-align: middle;\n",
       "    }\n",
       "\n",
       "    .dataframe tbody tr th {\n",
       "        vertical-align: top;\n",
       "    }\n",
       "\n",
       "    .dataframe thead th {\n",
       "        text-align: right;\n",
       "    }\n",
       "</style>\n",
       "<table border=\"1\" class=\"dataframe\">\n",
       "  <thead>\n",
       "    <tr style=\"text-align: right;\">\n",
       "      <th></th>\n",
       "      <th>Country</th>\n",
       "      <th>Both</th>\n",
       "      <th>Female</th>\n",
       "      <th>Male</th>\n",
       "    </tr>\n",
       "  </thead>\n",
       "  <tbody>\n",
       "    <tr>\n",
       "      <th>0</th>\n",
       "      <td>Afghanistan</td>\n",
       "      <td>5.7</td>\n",
       "      <td>5.3</td>\n",
       "      <td>6.2</td>\n",
       "    </tr>\n",
       "    <tr>\n",
       "      <th>1</th>\n",
       "      <td>Albania</td>\n",
       "      <td>5.9</td>\n",
       "      <td>5.2</td>\n",
       "      <td>6.6</td>\n",
       "    </tr>\n",
       "    <tr>\n",
       "      <th>2</th>\n",
       "      <td>Algeria</td>\n",
       "      <td>1.9</td>\n",
       "      <td>1.5</td>\n",
       "      <td>2.3</td>\n",
       "    </tr>\n",
       "    <tr>\n",
       "      <th>3</th>\n",
       "      <td>Angola</td>\n",
       "      <td>13.8</td>\n",
       "      <td>7.3</td>\n",
       "      <td>20.7</td>\n",
       "    </tr>\n",
       "    <tr>\n",
       "      <th>4</th>\n",
       "      <td>Argentina</td>\n",
       "      <td>10.3</td>\n",
       "      <td>4.1</td>\n",
       "      <td>17.2</td>\n",
       "    </tr>\n",
       "    <tr>\n",
       "      <th>5</th>\n",
       "      <td>Armenia</td>\n",
       "      <td>2.9</td>\n",
       "      <td>0.9</td>\n",
       "      <td>5.0</td>\n",
       "    </tr>\n",
       "    <tr>\n",
       "      <th>6</th>\n",
       "      <td>Australia</td>\n",
       "      <td>10.6</td>\n",
       "      <td>5.2</td>\n",
       "      <td>16.1</td>\n",
       "    </tr>\n",
       "    <tr>\n",
       "      <th>7</th>\n",
       "      <td>Austria</td>\n",
       "      <td>11.5</td>\n",
       "      <td>5.4</td>\n",
       "      <td>18.2</td>\n",
       "    </tr>\n",
       "    <tr>\n",
       "      <th>8</th>\n",
       "      <td>Azerbaijan</td>\n",
       "      <td>1.7</td>\n",
       "      <td>1.0</td>\n",
       "      <td>2.4</td>\n",
       "    </tr>\n",
       "    <tr>\n",
       "      <th>9</th>\n",
       "      <td>Bahamas</td>\n",
       "      <td>2.3</td>\n",
       "      <td>1.3</td>\n",
       "      <td>3.6</td>\n",
       "    </tr>\n",
       "  </tbody>\n",
       "</table>\n",
       "</div>"
      ],
      "text/plain": [
       "       Country  Both  Female  Male\n",
       "0  Afghanistan   5.7     5.3   6.2\n",
       "1      Albania   5.9     5.2   6.6\n",
       "2      Algeria   1.9     1.5   2.3\n",
       "3       Angola  13.8     7.3  20.7\n",
       "4    Argentina  10.3     4.1  17.2\n",
       "5      Armenia   2.9     0.9   5.0\n",
       "6    Australia  10.6     5.2  16.1\n",
       "7      Austria  11.5     5.4  18.2\n",
       "8   Azerbaijan   1.7     1.0   2.4\n",
       "9      Bahamas   2.3     1.3   3.6"
      ]
     },
     "execution_count": 66,
     "metadata": {},
     "output_type": "execute_result"
    }
   ],
   "source": [
    "LOCAL_FILENAME = 'data/who_suicide_rates.csv_backup'\n",
    "rates = pd.read_csv(LOCAL_FILENAME, names=['Country','Both','Female', 'Male'], skiprows=3)\n",
    "rates.head(10)"
   ]
  },
  {
   "cell_type": "code",
   "execution_count": 67,
   "metadata": {},
   "outputs": [
    {
     "data": {
      "image/png": "[encoded data removed]",
      "text/plain": [
       "<Figure size 720x504 with 1 Axes>"
      ]
     },
     "metadata": {
      "needs_background": "light"
     },
     "output_type": "display_data"
    }
   ],
   "source": [
    "rates.plot.hist(stacked=True, y=['Male', 'Female','Both'], bins=30, color=['Red', 'Green','Blue'], figsize=(10,7))\n",
    "plt.xlabel('Rate');"
   ]
  },
  {
   "cell_type": "code",
   "execution_count": 68,
   "metadata": {},
   "outputs": [
    {
     "name": "stdout",
     "output_type": "stream",
     "text": [
      "14.69590643274854 5.0707602339181275 9.699415204678369\n"
     ]
    }
   ],
   "source": [
    "print(rates['Male'].mean(), rates['Female'].mean(),rates['Both'].mean())"
   ]
  },
  {
   "cell_type": "code",
   "execution_count": 69,
   "metadata": {},
   "outputs": [
    {
     "data": {
      "image/png": "[encoded data removed]",
      "text/plain": [
       "<Figure size 432x288 with 1 Axes>"
      ]
     },
     "metadata": {
      "needs_background": "light"
     },
     "output_type": "display_data"
    }
   ],
   "source": [
    "rates.boxplot();"
   ]
  },
  {
   "cell_type": "code",
   "execution_count": 70,
   "metadata": {},
   "outputs": [
    {
     "name": "stdout",
     "output_type": "stream",
     "text": [
      "Outliers For Male\n",
      "   Country  Both  Female  Male\n",
      "66  Guyana  44.2    22.1  70.8\n"
     ]
    }
   ],
   "source": [
    "print('Outliers For Male')\n",
    "print(rates[rates['Male']>70])"
   ]
  },
  {
   "cell_type": "code",
   "execution_count": 71,
   "metadata": {},
   "outputs": [
    {
     "name": "stdout",
     "output_type": "stream",
     "text": [
      "Outliers For Female\n",
      "        Country  Both  Female  Male\n",
      "66       Guyana  44.2    22.1  70.8\n",
      "105  Mozambique  27.4    21.1  34.2\n"
     ]
    }
   ],
   "source": [
    "print('Outliers For Female')\n",
    "print(rates[rates['Female']>20])"
   ]
  },
  {
   "cell_type": "code",
   "execution_count": 72,
   "metadata": {},
   "outputs": [
    {
     "name": "stdout",
     "output_type": "stream",
     "text": [
      "Outliers For Both\n",
      "   Country  Both  Female  Male\n",
      "66  Guyana  44.2    22.1  70.8\n"
     ]
    }
   ],
   "source": [
    "print('Outliers For Both')\n",
    "print(rates[rates['Both']>40])"
   ]
  },
  {
   "cell_type": "code",
   "execution_count": 73,
   "metadata": {},
   "outputs": [],
   "source": [
    "def plot_cdf(data, plot_range=None, scale_to=None, nbins=False, **kwargs):\n",
    "    if not nbins:\n",
    "        nbins= len(data)\n",
    "    sorted_data = np.array(sorted(data), dtype=np.float64)\n",
    "    data_range = sorted_data[-1] - sorted_data[0]\n",
    "    counts, bin_edges = np.histogram(sorted_data, bins=nbins)\n",
    "    xvalues = bin_edges[1:]\n",
    "    yvalues = np.cumsum(counts)\n",
    "    if plot_range is None:\n",
    "        xmin = xvalues[0]\n",
    "        xmax = xvalues[-1]\n",
    "    else:\n",
    "        xmin, xmax = plot_range\n",
    "    # pad the arrays\n",
    "    xvalues = np.concatenate([[xmin, xvalues[0]], xvalues, [xmax]])\n",
    "    yvalues = np.concatenate([[0.0, 0.0],        yvalues, [yvalues.max()]])\n",
    "    if scale_to:\n",
    "        yvalues = yvalues / len(data) * scale_to\n",
    "    plt.axis([xmin, xmax, 0, yvalues.max()])\n",
    "    return plt.step(xvalues, yvalues, **kwargs)"
   ]
  },
  {
   "cell_type": "code",
   "execution_count": 74,
   "metadata": {},
   "outputs": [
    {
     "data": {
      "image/png": "[encoded data removed]",
      "text/plain": [
       "<Figure size 432x288 with 1 Axes>"
      ]
     },
     "metadata": {
      "needs_background": "light"
     },
     "output_type": "display_data"
    }
   ],
   "source": [
    "plot_cdf(rates['Both'], nbins=50, plot_range=[-5, 70]);"
   ]
  },
  {
   "cell_type": "code",
   "execution_count": 75,
   "metadata": {},
   "outputs": [
    {
     "data": {
      "image/png": "[encoded data removed]",
      "text/plain": [
       "<Figure size 432x288 with 1 Axes>"
      ]
     },
     "metadata": {
      "needs_background": "light"
     },
     "output_type": "display_data"
    }
   ],
   "source": [
    "stats.probplot(rates['Both'], dist='norm', plot=plt);"
   ]
  },
  {
   "cell_type": "code",
   "execution_count": 76,
   "metadata": {},
   "outputs": [
    {
     "data": {
      "image/png": "[encoded data removed]",
      "text/plain": [
       "<Figure size 432x288 with 1 Axes>"
      ]
     },
     "metadata": {
      "needs_background": "light"
     },
     "output_type": "display_data"
    }
   ],
   "source": [
    "beta = 1.5\n",
    "eta = 1.\n",
    "rvweib = stats.weibull_min(beta, scale=eta)\n",
    "stats.probplot(rates['Both'], dist=rvweib, plot=plt);"
   ]
  },
  {
   "cell_type": "code",
   "execution_count": 77,
   "metadata": {},
   "outputs": [
    {
     "name": "stdout",
     "output_type": "stream",
     "text": [
      "1.4851142482688444 0 10.760147674324672\n"
     ]
    }
   ],
   "source": [
    "beta, loc, eta = stats.weibull_min.fit(rates['Both'],floc=0, scale = 12)\n",
    "print(beta, loc, eta)"
   ]
  },
  {
   "cell_type": "code",
   "execution_count": 78,
   "metadata": {},
   "outputs": [
    {
     "data": {
      "image/png": "[encoded data removed]",
      "text/plain": [
       "<Figure size 432x288 with 1 Axes>"
      ]
     },
     "metadata": {
      "needs_background": "light"
     },
     "output_type": "display_data"
    }
   ],
   "source": [
    "rates['Both'].hist(bins=30)\n",
    "np.random.seed(1100)\n",
    "rvweib = stats.weibull_min(beta, scale=eta)\n",
    "plt.hist(rvweib.rvs(size=len(rates.Both)),bins=30, alpha=0.5);"
   ]
  },
  {
   "cell_type": "code",
   "execution_count": 79,
   "metadata": {},
   "outputs": [
    {
     "data": {
      "image/png": "[encoded data removed]",
      "text/plain": [
       "<Figure size 432x288 with 1 Axes>"
      ]
     },
     "metadata": {
      "needs_background": "light"
     },
     "output_type": "display_data"
    }
   ],
   "source": [
    "plot_cdf(rates['Both'], nbins=50,scale_to=1)\n",
    "np.random.seed(1100)\n",
    "plot_cdf(rvweib.rvs(size=50),scale_to=1)\n",
    "plt.xlim((-2,50));"
   ]
  },
  {
   "cell_type": "code",
   "execution_count": 80,
   "metadata": {},
   "outputs": [
    {
     "data": {
      "text/plain": [
       "Index(['LAT', 'LONG', 'DMS_LAT', 'DMS_LONG', 'MGRS', 'JOG', 'DSG', 'AFFIL',\n",
       "       'FIPS10', 'SHORT_NAME', 'FULL_NAME', 'MOD_DATE', 'ISO3136'],\n",
       "      dtype='object')"
      ]
     },
     "execution_count": 80,
     "metadata": {},
     "output_type": "execute_result"
    }
   ],
   "source": [
    "coords=pd.read_csv('data/country_centroids/country_centroids_primary.csv',sep='\\t')\n",
    "coords.keys()"
   ]
  },
  {
   "cell_type": "code",
   "execution_count": 81,
   "metadata": {},
   "outputs": [
    {
     "data": {
      "text/html": [
       "<div>\n",
       "<style scoped>\n",
       "    .dataframe tbody tr th:only-of-type {\n",
       "        vertical-align: middle;\n",
       "    }\n",
       "\n",
       "    .dataframe tbody tr th {\n",
       "        vertical-align: top;\n",
       "    }\n",
       "\n",
       "    .dataframe thead th {\n",
       "        text-align: right;\n",
       "    }\n",
       "</style>\n",
       "<table border=\"1\" class=\"dataframe\">\n",
       "  <thead>\n",
       "    <tr style=\"text-align: right;\">\n",
       "      <th></th>\n",
       "      <th>LAT</th>\n",
       "      <th>LONG</th>\n",
       "      <th>DMS_LAT</th>\n",
       "      <th>DMS_LONG</th>\n",
       "      <th>MGRS</th>\n",
       "      <th>JOG</th>\n",
       "      <th>DSG</th>\n",
       "      <th>AFFIL</th>\n",
       "      <th>FIPS10</th>\n",
       "      <th>SHORT_NAME</th>\n",
       "      <th>FULL_NAME</th>\n",
       "      <th>MOD_DATE</th>\n",
       "      <th>ISO3136</th>\n",
       "    </tr>\n",
       "  </thead>\n",
       "  <tbody>\n",
       "    <tr>\n",
       "      <th>0</th>\n",
       "      <td>33.000000</td>\n",
       "      <td>66.0</td>\n",
       "      <td>330000</td>\n",
       "      <td>660000</td>\n",
       "      <td>42STB1970055286</td>\n",
       "      <td>NI42-09</td>\n",
       "      <td>PCLI</td>\n",
       "      <td>NaN</td>\n",
       "      <td>AF</td>\n",
       "      <td>Afghanistan</td>\n",
       "      <td>Islamic Republic of Afghanistan</td>\n",
       "      <td>2009-04-10</td>\n",
       "      <td>AF</td>\n",
       "    </tr>\n",
       "    <tr>\n",
       "      <th>1</th>\n",
       "      <td>41.000000</td>\n",
       "      <td>20.0</td>\n",
       "      <td>410000</td>\n",
       "      <td>200000</td>\n",
       "      <td>34TDL1589839239</td>\n",
       "      <td>NK34-08</td>\n",
       "      <td>PCLI</td>\n",
       "      <td>NaN</td>\n",
       "      <td>AL</td>\n",
       "      <td>Albania</td>\n",
       "      <td>Republic of Albania</td>\n",
       "      <td>2007-02-28</td>\n",
       "      <td>AL</td>\n",
       "    </tr>\n",
       "    <tr>\n",
       "      <th>2</th>\n",
       "      <td>28.000000</td>\n",
       "      <td>3.0</td>\n",
       "      <td>280000</td>\n",
       "      <td>30000</td>\n",
       "      <td>31REL0000097202</td>\n",
       "      <td>NH31-15</td>\n",
       "      <td>PCLI</td>\n",
       "      <td>NaN</td>\n",
       "      <td>AG</td>\n",
       "      <td>Algeria</td>\n",
       "      <td>People's Democratic Republic of Algeria</td>\n",
       "      <td>2011-03-03</td>\n",
       "      <td>DZ</td>\n",
       "    </tr>\n",
       "    <tr>\n",
       "      <th>3</th>\n",
       "      <td>-14.333333</td>\n",
       "      <td>-170.0</td>\n",
       "      <td>-142000</td>\n",
       "      <td>-1700000</td>\n",
       "      <td>1802701</td>\n",
       "      <td>NaN</td>\n",
       "      <td>PCLD</td>\n",
       "      <td>US</td>\n",
       "      <td>AS</td>\n",
       "      <td>American Samoa</td>\n",
       "      <td>Territory of American Samoa</td>\n",
       "      <td>1998-10-06</td>\n",
       "      <td>AS</td>\n",
       "    </tr>\n",
       "    <tr>\n",
       "      <th>4</th>\n",
       "      <td>42.500000</td>\n",
       "      <td>1.5</td>\n",
       "      <td>423000</td>\n",
       "      <td>13000</td>\n",
       "      <td>31TCH7675006383</td>\n",
       "      <td>NK31-04</td>\n",
       "      <td>PCLI</td>\n",
       "      <td>NaN</td>\n",
       "      <td>AN</td>\n",
       "      <td>Andorra</td>\n",
       "      <td>Principality of Andorra</td>\n",
       "      <td>2007-02-28</td>\n",
       "      <td>AD</td>\n",
       "    </tr>\n",
       "  </tbody>\n",
       "</table>\n",
       "</div>"
      ],
      "text/plain": [
       "         LAT   LONG  DMS_LAT  DMS_LONG             MGRS      JOG   DSG AFFIL  \\\n",
       "0  33.000000   66.0   330000    660000  42STB1970055286  NI42-09  PCLI   NaN   \n",
       "1  41.000000   20.0   410000    200000  34TDL1589839239  NK34-08  PCLI   NaN   \n",
       "2  28.000000    3.0   280000     30000  31REL0000097202  NH31-15  PCLI   NaN   \n",
       "3 -14.333333 -170.0  -142000  -1700000          1802701      NaN  PCLD    US   \n",
       "4  42.500000    1.5   423000     13000  31TCH7675006383  NK31-04  PCLI   NaN   \n",
       "\n",
       "  FIPS10      SHORT_NAME                                FULL_NAME    MOD_DATE  \\\n",
       "0     AF     Afghanistan          Islamic Republic of Afghanistan  2009-04-10   \n",
       "1     AL         Albania                      Republic of Albania  2007-02-28   \n",
       "2     AG         Algeria  People's Democratic Republic of Algeria  2011-03-03   \n",
       "3     AS  American Samoa              Territory of American Samoa  1998-10-06   \n",
       "4     AN         Andorra                  Principality of Andorra  2007-02-28   \n",
       "\n",
       "  ISO3136  \n",
       "0      AF  \n",
       "1      AL  \n",
       "2      DZ  \n",
       "3      AS  \n",
       "4      AD  "
      ]
     },
     "execution_count": 81,
     "metadata": {},
     "output_type": "execute_result"
    }
   ],
   "source": [
    "coords.head()"
   ]
  },
  {
   "cell_type": "code",
   "execution_count": 82,
   "metadata": {},
   "outputs": [],
   "source": [
    "rates['Lat'] = ''\n",
    "rates['Lon'] = ''\n",
    "for i in coords.index:\n",
    "    ind = rates.Country.isin([coords.SHORT_NAME[i]])\n",
    "    val = coords.loc[i, ['LAT', 'LONG']].values.astype('float')\n",
    "    rates.loc[ind, ['Lat', 'Lon'] ] = list(val)"
   ]
  },
  {
   "cell_type": "code",
   "execution_count": 83,
   "metadata": {},
   "outputs": [
    {
     "data": {
      "text/html": [
       "<div>\n",
       "<style scoped>\n",
       "    .dataframe tbody tr th:only-of-type {\n",
       "        vertical-align: middle;\n",
       "    }\n",
       "\n",
       "    .dataframe tbody tr th {\n",
       "        vertical-align: top;\n",
       "    }\n",
       "\n",
       "    .dataframe thead th {\n",
       "        text-align: right;\n",
       "    }\n",
       "</style>\n",
       "<table border=\"1\" class=\"dataframe\">\n",
       "  <thead>\n",
       "    <tr style=\"text-align: right;\">\n",
       "      <th></th>\n",
       "      <th>Country</th>\n",
       "      <th>Both</th>\n",
       "      <th>Female</th>\n",
       "      <th>Male</th>\n",
       "      <th>Lat</th>\n",
       "      <th>Lon</th>\n",
       "    </tr>\n",
       "  </thead>\n",
       "  <tbody>\n",
       "    <tr>\n",
       "      <th>0</th>\n",
       "      <td>Afghanistan</td>\n",
       "      <td>5.7</td>\n",
       "      <td>5.3</td>\n",
       "      <td>6.2</td>\n",
       "      <td>33</td>\n",
       "      <td>66</td>\n",
       "    </tr>\n",
       "    <tr>\n",
       "      <th>1</th>\n",
       "      <td>Albania</td>\n",
       "      <td>5.9</td>\n",
       "      <td>5.2</td>\n",
       "      <td>6.6</td>\n",
       "      <td>41</td>\n",
       "      <td>20</td>\n",
       "    </tr>\n",
       "    <tr>\n",
       "      <th>2</th>\n",
       "      <td>Algeria</td>\n",
       "      <td>1.9</td>\n",
       "      <td>1.5</td>\n",
       "      <td>2.3</td>\n",
       "      <td>28</td>\n",
       "      <td>3</td>\n",
       "    </tr>\n",
       "    <tr>\n",
       "      <th>3</th>\n",
       "      <td>Angola</td>\n",
       "      <td>13.8</td>\n",
       "      <td>7.3</td>\n",
       "      <td>20.7</td>\n",
       "      <td>-12.5</td>\n",
       "      <td>18.5</td>\n",
       "    </tr>\n",
       "    <tr>\n",
       "      <th>4</th>\n",
       "      <td>Argentina</td>\n",
       "      <td>10.3</td>\n",
       "      <td>4.1</td>\n",
       "      <td>17.2</td>\n",
       "      <td>-34</td>\n",
       "      <td>-64</td>\n",
       "    </tr>\n",
       "  </tbody>\n",
       "</table>\n",
       "</div>"
      ],
      "text/plain": [
       "       Country  Both  Female  Male   Lat   Lon\n",
       "0  Afghanistan   5.7     5.3   6.2    33    66\n",
       "1      Albania   5.9     5.2   6.6    41    20\n",
       "2      Algeria   1.9     1.5   2.3    28     3\n",
       "3       Angola  13.8     7.3  20.7 -12.5  18.5\n",
       "4    Argentina  10.3     4.1  17.2   -34   -64"
      ]
     },
     "execution_count": 83,
     "metadata": {},
     "output_type": "execute_result"
    }
   ],
   "source": [
    "rates.head()"
   ]
  },
  {
   "cell_type": "code",
   "execution_count": 84,
   "metadata": {},
   "outputs": [],
   "source": [
    "rates.loc[rates.Lat.isin(['']), ['Lat']] = np.nan\n",
    "rates.loc[rates.Lon.isin(['']), ['Lon']] = np.nan\n",
    "rates[['Lat', 'Lon']] = rates[['Lat', 'Lon']].astype('float')"
   ]
  },
  {
   "cell_type": "code",
   "execution_count": 85,
   "metadata": {},
   "outputs": [],
   "source": [
    "rates['DFE'] = ''\n",
    "rates['DFE'] = abs(rates.Lat)\n",
    "rates['DFE'] = rates['DFE'].astype('float')"
   ]
  },
  {
   "cell_type": "code",
   "execution_count": 86,
   "metadata": {},
   "outputs": [
    {
     "data": {
      "image/png": "[encoded data removed]",
      "text/plain": [
       "<Figure size 432x288 with 1 Axes>"
      ]
     },
     "metadata": {
      "needs_background": "light"
     },
     "output_type": "display_data"
    }
   ],
   "source": [
    "fig = plt.figure()\n",
    "ax = fig.add_subplot(111)\n",
    "ax.plot(rates.DFE, rates.Both, '.')\n",
    "trans = transforms.blended_transform_factory(ax.transData, ax.transAxes)\n",
    "rect = patches.Rectangle((0,0), width=23.5, height=1,\n",
    "transform=trans, color='yellow', alpha=0.5)\n",
    "ax.add_patch(rect)\n",
    "ax.set_xlabel('DFE')\n",
    "ax.set_ylabel('Both');"
   ]
  },
  {
   "cell_type": "code",
   "execution_count": 87,
   "metadata": {},
   "outputs": [
    {
     "data": {
      "image/png": "[encoded data removed]",
      "text/plain": [
       "<Figure size 432x288 with 1 Axes>"
      ]
     },
     "metadata": {
      "needs_background": "light"
     },
     "output_type": "display_data"
    }
   ],
   "source": [
    "rates.DFE.hist(bins=13,color='SteelBlue')\n",
    "plt.xlabel('DFE')\n",
    "plt.ylabel('Counts');"
   ]
  },
  {
   "cell_type": "code",
   "execution_count": 88,
   "metadata": {},
   "outputs": [],
   "source": [
    "bins = np.arange(23.5, 65+1,10, dtype='float')\n",
    "groups_rates = rates.groupby(np.digitize(rates.DFE, bins))"
   ]
  },
  {
   "cell_type": "code",
   "execution_count": 89,
   "metadata": {},
   "outputs": [
    {
     "data": {
      "image/png": "[encoded data removed]",
      "text/plain": [
       "<Figure size 720x360 with 1 Axes>"
      ]
     },
     "metadata": {
      "needs_background": "light"
     },
     "output_type": "display_data"
    }
   ],
   "source": [
    "fig = plt.figure(figsize=(10,5))\n",
    "ax = fig.add_subplot(111)\n",
    "ax.errorbar(groups_rates.mean().DFE, groups_rates.mean().Both, yerr=np.array(groups_rates.std().Both),\n",
    "            marker='.', ls='None', lw=1.5, color='Green', ms=1)\n",
    "ax.plot(rates.DFE, rates.Both, '.', color='SteelBlue', ms=6)\n",
    "\n",
    "trans = transforms.blended_transform_factory(ax.transData, ax.transAxes)\n",
    "rect = patches.Rectangle((0,0), width=23.5, height=1, transform=trans, color='Yellow',  alpha=0.5)\n",
    "ax.add_patch(rect)\n",
    "ax.set_xlabel('DFE')\n",
    "ax.set_ylabel('Both');"
   ]
  },
  {
   "cell_type": "code",
   "execution_count": 90,
   "metadata": {},
   "outputs": [
    {
     "name": "stdout",
     "output_type": "stream",
     "text": [
      "slope:0.3204\n",
      "intercept:-4.2373\n",
      "rvalue:0.5102\n",
      "pvalue:0.0000\n",
      "stderr:0.0715\n"
     ]
    },
    {
     "name": "stderr",
     "output_type": "stream",
     "text": [
      "C:\\ProgramData\\Anaconda3\\lib\\site-packages\\ipykernel_launcher.py:3: FutureWarning: Method .as_matrix will be removed in a future version. Use .values instead.\n",
      "  This is separate from the ipykernel package so we can avoid doing imports until\n"
     ]
    }
   ],
   "source": [
    "mindfe = 30.\n",
    "selection = ~rates.DFE.isnull() * rates.DFE>mindfe\n",
    "rv = rates[selection].as_matrix(columns=['DFE','Both'])\n",
    "a, b, r, p, stderr = linregress(rv.T)\n",
    "print('slope:{0:.4f}\\nintercept:{1:.4f}\\nrvalue:{2:.4f}\\npvalue:{3:.4f}\\nstderr:{4:.4f}'.format(a, b, r, p, stderr))"
   ]
  },
  {
   "cell_type": "code",
   "execution_count": 91,
   "metadata": {},
   "outputs": [
    {
     "name": "stdout",
     "output_type": "stream",
     "text": [
      "                            OLS Regression Results                            \n",
      "==============================================================================\n",
      "Dep. Variable:                    DFE   R-squared:                       0.260\n",
      "Model:                            OLS   Adj. R-squared:                  0.247\n",
      "Method:                 Least Squares   F-statistic:                     20.06\n",
      "Date:                Wed, 15 Jul 2020   Prob (F-statistic):           3.65e-05\n",
      "Time:                        21:21:25   Log-Likelihood:                -203.18\n",
      "No. Observations:                  59   AIC:                             410.4\n",
      "Df Residuals:                      57   BIC:                             414.5\n",
      "Df Model:                           1                                         \n",
      "Covariance Type:            nonrobust                                         \n",
      "==============================================================================\n",
      "                 coef    std err          t      P>|t|      [0.025      0.975]\n",
      "------------------------------------------------------------------------------\n",
      "Intercept     36.6443      2.096     17.483      0.000      32.447      40.841\n",
      "Both           0.8126      0.181      4.479      0.000       0.449       1.176\n",
      "==============================================================================\n",
      "Omnibus:                        3.238   Durbin-Watson:                   1.963\n",
      "Prob(Omnibus):                  0.198   Jarque-Bera (JB):                2.682\n",
      "Skew:                           0.521   Prob(JB):                        0.262\n",
      "Kurtosis:                       3.077   Cond. No.                         24.3\n",
      "==============================================================================\n",
      "\n",
      "Warnings:\n",
      "[1] Standard Errors assume that the covariance matrix of the errors is correctly specified.\n"
     ]
    }
   ],
   "source": [
    "mod = smf.ols(\"DFE ~ Both\", rates[selection]).fit()\n",
    "print(mod.summary())"
   ]
  },
  {
   "cell_type": "code",
   "execution_count": 92,
   "metadata": {},
   "outputs": [
    {
     "data": {
      "image/png": "[encoded data removed]",
      "text/plain": [
       "<Figure size 720x504 with 1 Axes>"
      ]
     },
     "metadata": {
      "needs_background": "light"
     },
     "output_type": "display_data"
    }
   ],
   "source": [
    "prstd, iv_l, iv_u = wls_prediction_std(mod)\n",
    "\n",
    "fig = plt.figure(figsize=(10,7))\n",
    "ax = fig.add_subplot(111)\n",
    "rates.plot(kind='scatter', x='DFE', y='Both', ax=ax)\n",
    "\n",
    "xmin, xmax = min(rates['DFE']), max(rates['DFE'])\n",
    "\n",
    "ax.plot([mindfe, xmax], [mod.fittedvalues.min(), mod.fittedvalues.max()], \n",
    "        'IndianRed', lw=1.5)\n",
    "ax.plot([mindfe, xmax], [iv_u.min(), iv_u.max()], 'r--', lw=1.5)\n",
    "ax.plot([mindfe, xmax], [iv_l.min(), iv_l.max()], 'r--', lw=1.5)\n",
    "\n",
    "ax.errorbar(groups_rates.mean().DFE, \n",
    "            groups_rates.mean().Both, \n",
    "            yerr=np.array(groups_rates.std().Both),\n",
    "            ls='None',\n",
    "            lw=1.5,\n",
    "            color='Green')\n",
    "\n",
    "trans = transforms.blended_transform_factory(\n",
    "    ax.transData, ax.transAxes)\n",
    "\n",
    "rect = patches.Rectangle((0,0), width=mindfe, height=1,\n",
    "                         transform=trans, color='Yellow',\n",
    "                         alpha=0.5)\n",
    "\n",
    "ax.add_patch(rect)\n",
    "ax.grid(lw=1, ls='dashed')\n",
    "ax.set_xlim((xmin,xmax+3));"
   ]
  },
  {
   "cell_type": "code",
   "execution_count": 93,
   "metadata": {},
   "outputs": [
    {
     "data": {
      "text/html": [
       "<div>\n",
       "<style scoped>\n",
       "    .dataframe tbody tr th:only-of-type {\n",
       "        vertical-align: middle;\n",
       "    }\n",
       "\n",
       "    .dataframe tbody tr th {\n",
       "        vertical-align: top;\n",
       "    }\n",
       "\n",
       "    .dataframe thead th {\n",
       "        text-align: right;\n",
       "    }\n",
       "</style>\n",
       "<table border=\"1\" class=\"dataframe\">\n",
       "  <thead>\n",
       "    <tr style=\"text-align: right;\">\n",
       "      <th></th>\n",
       "      <th>id</th>\n",
       "      <th>name</th>\n",
       "    </tr>\n",
       "  </thead>\n",
       "  <tbody>\n",
       "    <tr>\n",
       "      <th>680</th>\n",
       "      <td>6.0.GDPpc_constant</td>\n",
       "      <td>GDP per capita, PPP (constant 2011 internation...</td>\n",
       "    </tr>\n",
       "    <tr>\n",
       "      <th>5476</th>\n",
       "      <td>FB.DPT.INSU.PC.ZS</td>\n",
       "      <td>Deposit insurance coverage (% of GDP per capita)</td>\n",
       "    </tr>\n",
       "    <tr>\n",
       "      <th>8953</th>\n",
       "      <td>NE.GDI.FTOT.CR</td>\n",
       "      <td>GDP expenditure on gross fixed capital formati...</td>\n",
       "    </tr>\n",
       "    <tr>\n",
       "      <th>8960</th>\n",
       "      <td>NE.GDI.FTOT.SNA08.CR</td>\n",
       "      <td>GDP expenditure on gross fixed capital formati...</td>\n",
       "    </tr>\n",
       "    <tr>\n",
       "      <th>9037</th>\n",
       "      <td>NV.AGR.PCAP.KD.ZG</td>\n",
       "      <td>Real agricultural GDP per capita growth rate (%)</td>\n",
       "    </tr>\n",
       "    <tr>\n",
       "      <th>9259</th>\n",
       "      <td>NY.GDP.PCAP.CD</td>\n",
       "      <td>GDP per capita (current US$)</td>\n",
       "    </tr>\n",
       "    <tr>\n",
       "      <th>9260</th>\n",
       "      <td>NY.GDP.PCAP.CN</td>\n",
       "      <td>GDP per capita (current LCU)</td>\n",
       "    </tr>\n",
       "    <tr>\n",
       "      <th>9261</th>\n",
       "      <td>NY.GDP.PCAP.KD</td>\n",
       "      <td>GDP per capita (constant 2010 US$)</td>\n",
       "    </tr>\n",
       "    <tr>\n",
       "      <th>9262</th>\n",
       "      <td>NY.GDP.PCAP.KD.ZG</td>\n",
       "      <td>GDP per capita growth (annual %)</td>\n",
       "    </tr>\n",
       "    <tr>\n",
       "      <th>9263</th>\n",
       "      <td>NY.GDP.PCAP.KN</td>\n",
       "      <td>GDP per capita (constant LCU)</td>\n",
       "    </tr>\n",
       "    <tr>\n",
       "      <th>9264</th>\n",
       "      <td>NY.GDP.PCAP.PP.CD</td>\n",
       "      <td>GDP per capita, PPP (current international $)</td>\n",
       "    </tr>\n",
       "    <tr>\n",
       "      <th>9265</th>\n",
       "      <td>NY.GDP.PCAP.PP.KD</td>\n",
       "      <td>GDP per capita, PPP (constant 2017 internation...</td>\n",
       "    </tr>\n",
       "    <tr>\n",
       "      <th>9266</th>\n",
       "      <td>NY.GDP.PCAP.PP.KD.87</td>\n",
       "      <td>GDP per capita, PPP (constant 1987 internation...</td>\n",
       "    </tr>\n",
       "    <tr>\n",
       "      <th>9267</th>\n",
       "      <td>NY.GDP.PCAP.PP.KD.ZG</td>\n",
       "      <td>GDP per capita, PPP annual growth (%)</td>\n",
       "    </tr>\n",
       "    <tr>\n",
       "      <th>10511</th>\n",
       "      <td>SE.XPD.PRIM.PC.ZS</td>\n",
       "      <td>Government expenditure per student, primary (%...</td>\n",
       "    </tr>\n",
       "    <tr>\n",
       "      <th>10515</th>\n",
       "      <td>SE.XPD.SECO.PC.ZS</td>\n",
       "      <td>Government expenditure per student, secondary ...</td>\n",
       "    </tr>\n",
       "    <tr>\n",
       "      <th>10520</th>\n",
       "      <td>SE.XPD.TERT.PC.ZS</td>\n",
       "      <td>Government expenditure per student, tertiary (...</td>\n",
       "    </tr>\n",
       "    <tr>\n",
       "      <th>13620</th>\n",
       "      <td>UIS.XUNIT.GDPCAP.02.FSGOV</td>\n",
       "      <td>Initial government funding per pre-primary stu...</td>\n",
       "    </tr>\n",
       "    <tr>\n",
       "      <th>13621</th>\n",
       "      <td>UIS.XUNIT.GDPCAP.1.FSGOV</td>\n",
       "      <td>Initial government funding per primary student...</td>\n",
       "    </tr>\n",
       "    <tr>\n",
       "      <th>13622</th>\n",
       "      <td>UIS.XUNIT.GDPCAP.1.FSHH</td>\n",
       "      <td>Initial household funding per primary student ...</td>\n",
       "    </tr>\n",
       "    <tr>\n",
       "      <th>13623</th>\n",
       "      <td>UIS.XUNIT.GDPCAP.2.FSGOV</td>\n",
       "      <td>Initial government funding per lower secondary...</td>\n",
       "    </tr>\n",
       "    <tr>\n",
       "      <th>13624</th>\n",
       "      <td>UIS.XUNIT.GDPCAP.23.FSGOV</td>\n",
       "      <td>Initial government funding per secondary stude...</td>\n",
       "    </tr>\n",
       "    <tr>\n",
       "      <th>13625</th>\n",
       "      <td>UIS.XUNIT.GDPCAP.23.FSHH</td>\n",
       "      <td>Initial household funding per secondary studen...</td>\n",
       "    </tr>\n",
       "    <tr>\n",
       "      <th>13626</th>\n",
       "      <td>UIS.XUNIT.GDPCAP.3.FSGOV</td>\n",
       "      <td>Initial government funding per upper secondary...</td>\n",
       "    </tr>\n",
       "    <tr>\n",
       "      <th>13627</th>\n",
       "      <td>UIS.XUNIT.GDPCAP.5T8.FSGOV</td>\n",
       "      <td>Initial government funding per tertiary studen...</td>\n",
       "    </tr>\n",
       "    <tr>\n",
       "      <th>13628</th>\n",
       "      <td>UIS.XUNIT.GDPCAP.5T8.FSHH</td>\n",
       "      <td>Initial household funding per tertiary student...</td>\n",
       "    </tr>\n",
       "  </tbody>\n",
       "</table>\n",
       "</div>"
      ],
      "text/plain": [
       "                               id  \\\n",
       "680            6.0.GDPpc_constant   \n",
       "5476            FB.DPT.INSU.PC.ZS   \n",
       "8953               NE.GDI.FTOT.CR   \n",
       "8960         NE.GDI.FTOT.SNA08.CR   \n",
       "9037            NV.AGR.PCAP.KD.ZG   \n",
       "9259               NY.GDP.PCAP.CD   \n",
       "9260               NY.GDP.PCAP.CN   \n",
       "9261               NY.GDP.PCAP.KD   \n",
       "9262            NY.GDP.PCAP.KD.ZG   \n",
       "9263               NY.GDP.PCAP.KN   \n",
       "9264            NY.GDP.PCAP.PP.CD   \n",
       "9265            NY.GDP.PCAP.PP.KD   \n",
       "9266         NY.GDP.PCAP.PP.KD.87   \n",
       "9267         NY.GDP.PCAP.PP.KD.ZG   \n",
       "10511           SE.XPD.PRIM.PC.ZS   \n",
       "10515           SE.XPD.SECO.PC.ZS   \n",
       "10520           SE.XPD.TERT.PC.ZS   \n",
       "13620   UIS.XUNIT.GDPCAP.02.FSGOV   \n",
       "13621    UIS.XUNIT.GDPCAP.1.FSGOV   \n",
       "13622     UIS.XUNIT.GDPCAP.1.FSHH   \n",
       "13623    UIS.XUNIT.GDPCAP.2.FSGOV   \n",
       "13624   UIS.XUNIT.GDPCAP.23.FSGOV   \n",
       "13625    UIS.XUNIT.GDPCAP.23.FSHH   \n",
       "13626    UIS.XUNIT.GDPCAP.3.FSGOV   \n",
       "13627  UIS.XUNIT.GDPCAP.5T8.FSGOV   \n",
       "13628   UIS.XUNIT.GDPCAP.5T8.FSHH   \n",
       "\n",
       "                                                    name  \n",
       "680    GDP per capita, PPP (constant 2011 internation...  \n",
       "5476    Deposit insurance coverage (% of GDP per capita)  \n",
       "8953   GDP expenditure on gross fixed capital formati...  \n",
       "8960   GDP expenditure on gross fixed capital formati...  \n",
       "9037    Real agricultural GDP per capita growth rate (%)  \n",
       "9259                        GDP per capita (current US$)  \n",
       "9260                        GDP per capita (current LCU)  \n",
       "9261                  GDP per capita (constant 2010 US$)  \n",
       "9262                    GDP per capita growth (annual %)  \n",
       "9263                       GDP per capita (constant LCU)  \n",
       "9264       GDP per capita, PPP (current international $)  \n",
       "9265   GDP per capita, PPP (constant 2017 internation...  \n",
       "9266   GDP per capita, PPP (constant 1987 internation...  \n",
       "9267               GDP per capita, PPP annual growth (%)  \n",
       "10511  Government expenditure per student, primary (%...  \n",
       "10515  Government expenditure per student, secondary ...  \n",
       "10520  Government expenditure per student, tertiary (...  \n",
       "13620  Initial government funding per pre-primary stu...  \n",
       "13621  Initial government funding per primary student...  \n",
       "13622  Initial household funding per primary student ...  \n",
       "13623  Initial government funding per lower secondary...  \n",
       "13624  Initial government funding per secondary stude...  \n",
       "13625  Initial household funding per secondary studen...  \n",
       "13626  Initial government funding per upper secondary...  \n",
       "13627  Initial government funding per tertiary studen...  \n",
       "13628  Initial household funding per tertiary student...  "
      ]
     },
     "execution_count": 93,
     "metadata": {},
     "output_type": "execute_result"
    }
   ],
   "source": [
    "wb.search('gdp.*capita.*').iloc[:,:2]"
   ]
  },
  {
   "cell_type": "code",
   "execution_count": 94,
   "metadata": {},
   "outputs": [
    {
     "data": {
      "text/html": [
       "<div>\n",
       "<style scoped>\n",
       "    .dataframe tbody tr th:only-of-type {\n",
       "        vertical-align: middle;\n",
       "    }\n",
       "\n",
       "    .dataframe tbody tr th {\n",
       "        vertical-align: top;\n",
       "    }\n",
       "\n",
       "    .dataframe thead th {\n",
       "        text-align: right;\n",
       "    }\n",
       "</style>\n",
       "<table border=\"1\" class=\"dataframe\">\n",
       "  <thead>\n",
       "    <tr style=\"text-align: right;\">\n",
       "      <th></th>\n",
       "      <th></th>\n",
       "      <th>NY.GDP.PCAP.PP.CD</th>\n",
       "    </tr>\n",
       "    <tr>\n",
       "      <th>country</th>\n",
       "      <th>year</th>\n",
       "      <th></th>\n",
       "    </tr>\n",
       "  </thead>\n",
       "  <tbody>\n",
       "    <tr>\n",
       "      <th>Arab World</th>\n",
       "      <th>2014</th>\n",
       "      <td>16213.193326</td>\n",
       "    </tr>\n",
       "    <tr>\n",
       "      <th>Caribbean small states</th>\n",
       "      <th>2014</th>\n",
       "      <td>15138.197604</td>\n",
       "    </tr>\n",
       "    <tr>\n",
       "      <th>Central Europe and the Baltics</th>\n",
       "      <th>2014</th>\n",
       "      <td>24984.966705</td>\n",
       "    </tr>\n",
       "    <tr>\n",
       "      <th>Early-demographic dividend</th>\n",
       "      <th>2014</th>\n",
       "      <td>8166.747022</td>\n",
       "    </tr>\n",
       "    <tr>\n",
       "      <th>East Asia &amp; Pacific</th>\n",
       "      <th>2014</th>\n",
       "      <td>14695.656564</td>\n",
       "    </tr>\n",
       "  </tbody>\n",
       "</table>\n",
       "</div>"
      ],
      "text/plain": [
       "                                     NY.GDP.PCAP.PP.CD\n",
       "country                        year                   \n",
       "Arab World                     2014       16213.193326\n",
       "Caribbean small states         2014       15138.197604\n",
       "Central Europe and the Baltics 2014       24984.966705\n",
       "Early-demographic dividend     2014        8166.747022\n",
       "East Asia & Pacific            2014       14695.656564"
      ]
     },
     "execution_count": 94,
     "metadata": {},
     "output_type": "execute_result"
    }
   ],
   "source": [
    "dat = wb.download(indicator='NY.GDP.PCAP.PP.CD', country='all', start=2014, end=2014)\n",
    "dat.head()"
   ]
  },
  {
   "cell_type": "code",
   "execution_count": 95,
   "metadata": {},
   "outputs": [
    {
     "name": "stdout",
     "output_type": "stream",
     "text": [
      "country                         year\n",
      "Arab World                      2014    16213.193326\n",
      "Caribbean small states          2014    15138.197604\n",
      "Central Europe and the Baltics  2014    24984.966705\n",
      "Early-demographic dividend      2014     8166.747022\n",
      "East Asia & Pacific             2014    14695.656564\n",
      "Name: NY.GDP.PCAP.PP.CD, dtype: float64\n",
      "                          country               gdp\n",
      "0                      Arab World  16213.1933263674\n",
      "1          Caribbean small states  15138.1976044659\n",
      "2  Central Europe and the Baltics  24984.9667048871\n",
      "3      Early-demographic dividend  8166.74702158105\n",
      "4             East Asia & Pacific  14695.6565639546\n"
     ]
    }
   ],
   "source": [
    "country = np.array(dat.index.tolist())[:,0]\n",
    "gdp = np.array(np.array(dat['NY.GDP.PCAP.PP.CD']))\n",
    "data = pd.DataFrame(data=np.array([country,gdp]).T, columns=['country', 'gdp'])\n",
    "print(dat['NY.GDP.PCAP.PP.CD'].head())\n",
    "print(data.head())"
   ]
  },
  {
   "cell_type": "code",
   "execution_count": 96,
   "metadata": {},
   "outputs": [],
   "source": [
    "rates['GDP_CD'] = ''\n",
    "for i in np.arange(len(data)):\n",
    "    rates.loc[rates.Country.isin([data.country[i]]), ['GDP_CD'] ] = data.loc[i, ['gdp']].values.astype('float')\n",
    "rates.loc[rates.GDP_CD.isin(['']), ['GDP_CD']] = np.nan"
   ]
  },
  {
   "cell_type": "code",
   "execution_count": 97,
   "metadata": {},
   "outputs": [
    {
     "name": "stdout",
     "output_type": "stream",
     "text": [
      "    Country  Both  Female  Male   Lat   Lon   DFE   GDP_CD\n",
      "146  Sweden  11.1     6.1  16.2  62.0  15.0  62.0  47184.7\n",
      "    country               gdp\n",
      "234  Sweden  47184.6691338182\n",
      "[84423.19134327]\n"
     ]
    },
    {
     "data": {
      "text/html": [
       "<div>\n",
       "<style scoped>\n",
       "    .dataframe tbody tr th:only-of-type {\n",
       "        vertical-align: middle;\n",
       "    }\n",
       "\n",
       "    .dataframe tbody tr th {\n",
       "        vertical-align: top;\n",
       "    }\n",
       "\n",
       "    .dataframe thead th {\n",
       "        text-align: right;\n",
       "    }\n",
       "</style>\n",
       "<table border=\"1\" class=\"dataframe\">\n",
       "  <thead>\n",
       "    <tr style=\"text-align: right;\">\n",
       "      <th></th>\n",
       "      <th>Country</th>\n",
       "      <th>Both</th>\n",
       "      <th>Female</th>\n",
       "      <th>Male</th>\n",
       "      <th>Lat</th>\n",
       "      <th>Lon</th>\n",
       "      <th>DFE</th>\n",
       "      <th>GDP_CD</th>\n",
       "    </tr>\n",
       "  </thead>\n",
       "  <tbody>\n",
       "    <tr>\n",
       "      <th>146</th>\n",
       "      <td>Sweden</td>\n",
       "      <td>11.1</td>\n",
       "      <td>6.1</td>\n",
       "      <td>16.2</td>\n",
       "      <td>62.0</td>\n",
       "      <td>15.0</td>\n",
       "      <td>62.0</td>\n",
       "      <td>47184.7</td>\n",
       "    </tr>\n",
       "  </tbody>\n",
       "</table>\n",
       "</div>"
      ],
      "text/plain": [
       "    Country  Both  Female  Male   Lat   Lon   DFE   GDP_CD\n",
       "146  Sweden  11.1     6.1  16.2  62.0  15.0  62.0  47184.7"
      ]
     },
     "execution_count": 97,
     "metadata": {},
     "output_type": "execute_result"
    }
   ],
   "source": [
    "print(rates[rates.Country=='Sweden'])\n",
    "print(data[data.country=='Sweden'])\n",
    "print(data.loc[218, ['gdp']].values.astype('float'))\n",
    "rates.loc[rates.Country.isin(['Sweden'])]"
   ]
  },
  {
   "cell_type": "code",
   "execution_count": 98,
   "metadata": {},
   "outputs": [
    {
     "name": "stderr",
     "output_type": "stream",
     "text": [
      "C:\\ProgramData\\Anaconda3\\lib\\site-packages\\pandas\\core\\computation\\expressions.py:183: UserWarning: evaluating in Python space because the '*' operator is not supported by numexpr for the bool dtype, use '&' instead\n",
      "  .format(op=op_str, alt_op=unsupported[op_str]))\n"
     ]
    }
   ],
   "source": [
    "selection = ~rates.DFE.isnull() * rates.DFE>mindfe\n",
    "selection *= ~rates.GDP_CD.isnull()"
   ]
  },
  {
   "cell_type": "code",
   "execution_count": 99,
   "metadata": {},
   "outputs": [
    {
     "data": {
      "image/png": "[encoded data removed]",
      "text/plain": [
       "<Figure size 432x288 with 1 Axes>"
      ]
     },
     "metadata": {
      "needs_background": "light"
     },
     "output_type": "display_data"
    }
   ],
   "source": [
    "plt.plot(rates[selection].Both.values, rates[selection].GDP_CD.values/1000, '.', ms=10)\n",
    "plt.ylabel('GDP/1000')\n",
    "plt.xlabel('Suicide rate');"
   ]
  },
  {
   "cell_type": "code",
   "execution_count": 100,
   "metadata": {},
   "outputs": [
    {
     "data": {
      "image/png": "[encoded data removed]",
      "text/plain": [
       "<Figure size 432x288 with 1 Axes>"
      ]
     },
     "metadata": {
      "needs_background": "light"
     },
     "output_type": "display_data"
    }
   ],
   "source": [
    "plt.scatter(rates[selection].DFE.values, rates[selection].GDP_CD.values/1000, s=rates[selection].Both.values**1.5)\n",
    "plt.ylabel('GDP/1000')\n",
    "plt.xlabel('DFE');"
   ]
  },
  {
   "cell_type": "code",
   "execution_count": 101,
   "metadata": {},
   "outputs": [
    {
     "name": "stderr",
     "output_type": "stream",
     "text": [
      "C:\\ProgramData\\Anaconda3\\lib\\site-packages\\numpy\\core\\fromnumeric.py:2389: FutureWarning: Method .ptp is deprecated and will be removed in a future version. Use numpy.ptp instead.\n",
      "  return ptp(axis=axis, out=out, **kwargs)\n"
     ]
    }
   ],
   "source": [
    "A = rates[selection][['DFE', 'GDP_CD']].astype('float')\n",
    "A['GDP_CD'] = A['GDP_CD']/1000\n",
    "b = rates[selection]['Both'].astype('float')\n",
    "A = sm.add_constant(A)\n",
    "est = sm.OLS(b, A).fit()"
   ]
  },
  {
   "cell_type": "code",
   "execution_count": 102,
   "metadata": {},
   "outputs": [
    {
     "data": {
      "image/png": "[encoded data removed]",
      "text/plain": [
       "<Figure size 648x504 with 1 Axes>"
      ]
     },
     "metadata": {
      "needs_background": "light"
     },
     "output_type": "display_data"
    }
   ],
   "source": [
    "X, Y = np.meshgrid(np.linspace(A.DFE.min(), A.DFE.max(), 100), np.linspace(A.GDP_CD.min(), A.GDP_CD.max(), 100))\n",
    "Z = est.params[0] + est.params[1] * X + est.params[2] * Y\n",
    "\n",
    "fig = plt.figure(figsize=(9, 7))\n",
    "ax = Axes3D(fig, azim=-135, elev=15)\n",
    "surf = ax.plot_surface(X, Y, Z, cmap=plt.cm.RdBu, alpha=0.6, linewidth=0)\n",
    "\n",
    "resid = b - est.predict(A)\n",
    "ax.scatter(A.DFE, A.GDP_CD, b,  alpha=1.0)\n",
    "\n",
    "ax.set_xlabel('DFE')\n",
    "ax.set_ylabel('GDP_CD/1000')\n",
    "ax.set_zlabel('Both');"
   ]
  },
  {
   "cell_type": "code",
   "execution_count": 103,
   "metadata": {},
   "outputs": [
    {
     "name": "stdout",
     "output_type": "stream",
     "text": [
      "                            OLS Regression Results                            \n",
      "==============================================================================\n",
      "Dep. Variable:                   Both   R-squared:                       0.286\n",
      "Model:                            OLS   Adj. R-squared:                  0.259\n",
      "Method:                 Least Squares   F-statistic:                     10.80\n",
      "Date:                Wed, 15 Jul 2020   Prob (F-statistic):           0.000113\n",
      "Time:                        21:22:42   Log-Likelihood:                -169.74\n",
      "No. Observations:                  57   AIC:                             345.5\n",
      "Df Residuals:                      54   BIC:                             351.6\n",
      "Df Model:                           2                                         \n",
      "Covariance Type:            nonrobust                                         \n",
      "==============================================================================\n",
      "                 coef    std err          t      P>|t|      [0.025      0.975]\n",
      "------------------------------------------------------------------------------\n",
      "const         -5.4745      3.428     -1.597      0.116     -12.347       1.398\n",
      "DFE            0.3850      0.086      4.482      0.000       0.213       0.557\n",
      "GDP_CD        -0.0584      0.043     -1.371      0.176      -0.144       0.027\n",
      "==============================================================================\n",
      "Omnibus:                       11.892   Durbin-Watson:                   2.427\n",
      "Prob(Omnibus):                  0.003   Jarque-Bera (JB):               12.082\n",
      "Skew:                           1.025   Prob(JB):                      0.00238\n",
      "Kurtosis:                       3.943   Cond. No.                         293.\n",
      "==============================================================================\n",
      "\n",
      "Warnings:\n",
      "[1] Standard Errors assume that the covariance matrix of the errors is correctly specified.\n"
     ]
    }
   ],
   "source": [
    "print(est.summary())"
   ]
  },
  {
   "cell_type": "code",
   "execution_count": 104,
   "metadata": {},
   "outputs": [
    {
     "data": {
      "image/png": "[encoded data removed]",
      "text/plain": [
       "<Figure size 432x288 with 1 Axes>"
      ]
     },
     "metadata": {
      "needs_background": "light"
     },
     "output_type": "display_data"
    }
   ],
   "source": [
    "#%matplotlib notebook\n",
    "#%matplotlib notebook#==Interactive Matplot\n",
    "selection2 = ~rates.DFE.isnull()\n",
    "plt.scatter(rates[selection2].GDP_CD.values/1000,\n",
    "rates[selection2].DFE.values, s=rates[selection2].Both.values**1.5)\n",
    "plt.xlabel('GDP/1000')\n",
    "plt.ylabel('DFE');"
   ]
  },
  {
   "cell_type": "code",
   "execution_count": 105,
   "metadata": {},
   "outputs": [
    {
     "data": {
      "text/html": [
       "<div>\n",
       "<style scoped>\n",
       "    .dataframe tbody tr th:only-of-type {\n",
       "        vertical-align: middle;\n",
       "    }\n",
       "\n",
       "    .dataframe tbody tr th {\n",
       "        vertical-align: top;\n",
       "    }\n",
       "\n",
       "    .dataframe thead th {\n",
       "        text-align: right;\n",
       "    }\n",
       "</style>\n",
       "<table border=\"1\" class=\"dataframe\">\n",
       "  <thead>\n",
       "    <tr style=\"text-align: right;\">\n",
       "      <th></th>\n",
       "      <th>Country</th>\n",
       "      <th>Both</th>\n",
       "      <th>Male</th>\n",
       "      <th>Female</th>\n",
       "      <th>GDP_CD</th>\n",
       "      <th>DFE</th>\n",
       "    </tr>\n",
       "  </thead>\n",
       "  <tbody>\n",
       "    <tr>\n",
       "      <th>0</th>\n",
       "      <td>Afghanistan</td>\n",
       "      <td>5.7</td>\n",
       "      <td>6.2</td>\n",
       "      <td>5.3</td>\n",
       "      <td>2069.42</td>\n",
       "      <td>33.0</td>\n",
       "    </tr>\n",
       "    <tr>\n",
       "      <th>1</th>\n",
       "      <td>Albania</td>\n",
       "      <td>5.9</td>\n",
       "      <td>6.6</td>\n",
       "      <td>5.2</td>\n",
       "      <td>11259.2</td>\n",
       "      <td>41.0</td>\n",
       "    </tr>\n",
       "    <tr>\n",
       "      <th>2</th>\n",
       "      <td>Algeria</td>\n",
       "      <td>1.9</td>\n",
       "      <td>2.3</td>\n",
       "      <td>1.5</td>\n",
       "      <td>13003.2</td>\n",
       "      <td>28.0</td>\n",
       "    </tr>\n",
       "    <tr>\n",
       "      <th>3</th>\n",
       "      <td>Angola</td>\n",
       "      <td>13.8</td>\n",
       "      <td>20.7</td>\n",
       "      <td>7.3</td>\n",
       "      <td>8179.3</td>\n",
       "      <td>12.5</td>\n",
       "    </tr>\n",
       "    <tr>\n",
       "      <th>4</th>\n",
       "      <td>Argentina</td>\n",
       "      <td>10.3</td>\n",
       "      <td>17.2</td>\n",
       "      <td>4.1</td>\n",
       "      <td>19683.8</td>\n",
       "      <td>34.0</td>\n",
       "    </tr>\n",
       "  </tbody>\n",
       "</table>\n",
       "</div>"
      ],
      "text/plain": [
       "       Country  Both  Male  Female   GDP_CD   DFE\n",
       "0  Afghanistan   5.7   6.2     5.3  2069.42  33.0\n",
       "1      Albania   5.9   6.6     5.2  11259.2  41.0\n",
       "2      Algeria   1.9   2.3     1.5  13003.2  28.0\n",
       "3       Angola  13.8  20.7     7.3   8179.3  12.5\n",
       "4    Argentina  10.3  17.2     4.1  19683.8  34.0"
      ]
     },
     "execution_count": 105,
     "metadata": {},
     "output_type": "execute_result"
    }
   ],
   "source": [
    "data = pd.DataFrame(data=rates[['Country','Both','Male','Female','GDP_CD', 'DFE']][~rates.DFE.isnull()])\n",
    "data.head()"
   ]
  },
  {
   "cell_type": "code",
   "execution_count": 106,
   "metadata": {},
   "outputs": [
    {
     "name": "stderr",
     "output_type": "stream",
     "text": [
      "C:\\ProgramData\\Anaconda3\\lib\\site-packages\\pandas\\core\\generic.py:2377: PerformanceWarning: \n",
      "your performance may suffer as PyTables will pickle object types that it cannot\n",
      "map directly to c-types [inferred_type->mixed,key->block0_values] [items->['Country', 'GDP_CD']]\n",
      "\n",
      "  return pytables.to_hdf(path_or_buf, key, self, **kwargs)\n"
     ]
    }
   ],
   "source": [
    "TABLE_FILE = 'data\\data_ch4.h5'\n",
    "data.to_hdf(TABLE_FILE, 'ch4data', mode='w', table=True)"
   ]
  },
  {
   "cell_type": "code",
   "execution_count": 107,
   "metadata": {},
   "outputs": [
    {
     "data": {
      "text/html": [
       "<div>\n",
       "<style scoped>\n",
       "    .dataframe tbody tr th:only-of-type {\n",
       "        vertical-align: middle;\n",
       "    }\n",
       "\n",
       "    .dataframe tbody tr th {\n",
       "        vertical-align: top;\n",
       "    }\n",
       "\n",
       "    .dataframe thead th {\n",
       "        text-align: right;\n",
       "    }\n",
       "</style>\n",
       "<table border=\"1\" class=\"dataframe\">\n",
       "  <thead>\n",
       "    <tr style=\"text-align: right;\">\n",
       "      <th></th>\n",
       "      <th>Country</th>\n",
       "      <th>Both</th>\n",
       "      <th>Male</th>\n",
       "      <th>Female</th>\n",
       "      <th>GDP_CD</th>\n",
       "      <th>DFE</th>\n",
       "    </tr>\n",
       "  </thead>\n",
       "  <tbody>\n",
       "    <tr>\n",
       "      <th>0</th>\n",
       "      <td>Afghanistan</td>\n",
       "      <td>5.7</td>\n",
       "      <td>6.2</td>\n",
       "      <td>5.3</td>\n",
       "      <td>2069.42</td>\n",
       "      <td>33.0</td>\n",
       "    </tr>\n",
       "    <tr>\n",
       "      <th>1</th>\n",
       "      <td>Albania</td>\n",
       "      <td>5.9</td>\n",
       "      <td>6.6</td>\n",
       "      <td>5.2</td>\n",
       "      <td>11259.2</td>\n",
       "      <td>41.0</td>\n",
       "    </tr>\n",
       "    <tr>\n",
       "      <th>2</th>\n",
       "      <td>Algeria</td>\n",
       "      <td>1.9</td>\n",
       "      <td>2.3</td>\n",
       "      <td>1.5</td>\n",
       "      <td>13003.2</td>\n",
       "      <td>28.0</td>\n",
       "    </tr>\n",
       "    <tr>\n",
       "      <th>3</th>\n",
       "      <td>Angola</td>\n",
       "      <td>13.8</td>\n",
       "      <td>20.7</td>\n",
       "      <td>7.3</td>\n",
       "      <td>8179.3</td>\n",
       "      <td>12.5</td>\n",
       "    </tr>\n",
       "    <tr>\n",
       "      <th>4</th>\n",
       "      <td>Argentina</td>\n",
       "      <td>10.3</td>\n",
       "      <td>17.2</td>\n",
       "      <td>4.1</td>\n",
       "      <td>19683.8</td>\n",
       "      <td>34.0</td>\n",
       "    </tr>\n",
       "  </tbody>\n",
       "</table>\n",
       "</div>"
      ],
      "text/plain": [
       "       Country  Both  Male  Female   GDP_CD   DFE\n",
       "0  Afghanistan   5.7   6.2     5.3  2069.42  33.0\n",
       "1      Albania   5.9   6.6     5.2  11259.2  41.0\n",
       "2      Algeria   1.9   2.3     1.5  13003.2  28.0\n",
       "3       Angola  13.8  20.7     7.3   8179.3  12.5\n",
       "4    Argentina  10.3  17.2     4.1  19683.8  34.0"
      ]
     },
     "execution_count": 107,
     "metadata": {},
     "output_type": "execute_result"
    }
   ],
   "source": [
    "d2 = pd.read_hdf(TABLE_FILE)\n",
    "d2.head()"
   ]
  },
  {
   "cell_type": "code",
   "execution_count": 108,
   "metadata": {},
   "outputs": [
    {
     "data": {
      "text/plain": [
       "Text(0.5,0,'xx')"
      ]
     },
     "execution_count": 108,
     "metadata": {},
     "output_type": "execute_result"
    },
    {
     "data": {
      "image/png": "[encoded data removed]",
      "text/plain": [
       "<Figure size 432x288 with 1 Axes>"
      ]
     },
     "metadata": {
      "needs_background": "light"
     },
     "output_type": "display_data"
    }
   ],
   "source": [
    "k = 1.\n",
    "m = -5.\n",
    "y = lambda x: k*x + m\n",
    "#p = lambda x: np.exp(k*x+m) / (1+np.exp(k*x+m))\n",
    "p = lambda x: 1 / (1+np.exp(-1*(k*x+m)))\n",
    "\n",
    "xx = np.linspace(0,10)\n",
    "plt.plot(xx,y(xx), label='linear')\n",
    "plt.plot(xx,p(xx), label='logistic')\n",
    "plt.plot([0,abs(m)], [0.5,0.5], dashes=(4,4), color='.7')\n",
    "plt.plot([abs(m),abs(m)], [-.1,.5], dashes=(4,4), color='.7')\n",
    "\n",
    "# limits, legends and labels\n",
    "plt.ylim((-.1,1.1))\n",
    "plt.legend(loc=2)\n",
    "plt.ylabel('P')\n",
    "plt.xlabel('xx')"
   ]
  },
  {
   "cell_type": "code",
   "execution_count": 109,
   "metadata": {},
   "outputs": [
    {
     "data": {
      "image/png": "[encoded data removed]",
      "text/plain": [
       "<Figure size 432x288 with 1 Axes>"
      ]
     },
     "metadata": {
      "needs_background": "light"
     },
     "output_type": "display_data"
    }
   ],
   "source": [
    "studytime=[0,0,1.5,2,2.5,3,3.5,4,4,4,5.5,6,6.5,7,7,8.5,9,9,9,10.5,10.5,12,12,12,12.5,13,14,15,16,18]\n",
    "passed=[0,0,0,0,0,0,0,0,0,0,0,1,0,1,1,0,1,1,0,1,1,1,1,1,1,1,1,1,1,1]\n",
    "data = pd.DataFrame(data=np.array([studytime, passed]).T, columns=['Time','Pass'])\n",
    "data.Time.hist(bins=6)\n",
    "plt.xlabel('Time')\n",
    "plt.ylabel('No. students');"
   ]
  },
  {
   "cell_type": "code",
   "execution_count": 110,
   "metadata": {},
   "outputs": [
    {
     "data": {
      "image/png": "[encoded data removed]",
      "text/plain": [
       "<Figure size 432x288 with 1 Axes>"
      ]
     },
     "metadata": {
      "needs_background": "light"
     },
     "output_type": "display_data"
    }
   ],
   "source": [
    "plt.plot(data.Time, data.Pass,'o', mew=0, ms=7,)\n",
    "plt.ylim(-.1,1.1)\n",
    "plt.xlim(-0.2,16.2)\n",
    "plt.xlabel('Time studied')\n",
    "plt.ylabel('Pass? (0=no, 1=yes)');"
   ]
  },
  {
   "cell_type": "code",
   "execution_count": 111,
   "metadata": {},
   "outputs": [
    {
     "name": "stderr",
     "output_type": "stream",
     "text": [
      "C:\\ProgramData\\Anaconda3\\lib\\site-packages\\numpy\\core\\fromnumeric.py:2389: FutureWarning: Method .ptp is deprecated and will be removed in a future version. Use numpy.ptp instead.\n",
      "  return ptp(axis=axis, out=out, **kwargs)\n"
     ]
    }
   ],
   "source": [
    "probfit = sm.Logit(data.Pass, sm.add_constant(data.Time,prepend=True))"
   ]
  },
  {
   "cell_type": "code",
   "execution_count": 112,
   "metadata": {},
   "outputs": [
    {
     "name": "stdout",
     "output_type": "stream",
     "text": [
      "Optimization terminated successfully.\n",
      "         Current function value: 0.251107\n",
      "         Iterations 8\n",
      "                           Logit Regression Results                           \n",
      "==============================================================================\n",
      "Dep. Variable:                   Pass   No. Observations:                   30\n",
      "Model:                          Logit   Df Residuals:                       28\n",
      "Method:                           MLE   Df Model:                            1\n",
      "Date:                Wed, 15 Jul 2020   Pseudo R-squ.:                  0.6366\n",
      "Time:                        21:22:52   Log-Likelihood:                -7.5332\n",
      "converged:                       True   LL-Null:                       -20.728\n",
      "Covariance Type:            nonrobust   LLR p-value:                 2.791e-07\n",
      "==============================================================================\n",
      "                 coef    std err          z      P>|z|      [0.025      0.975]\n",
      "------------------------------------------------------------------------------\n",
      "const         -5.7980      2.240     -2.588      0.010     -10.188      -1.408\n",
      "Time           0.8020      0.297      2.703      0.007       0.220       1.384\n",
      "==============================================================================\n"
     ]
    }
   ],
   "source": [
    "fit_results = probfit.fit()\n",
    "print(fit_results.summary())"
   ]
  },
  {
   "cell_type": "code",
   "execution_count": 113,
   "metadata": {},
   "outputs": [
    {
     "data": {
      "text/html": [
       "<div>\n",
       "<style scoped>\n",
       "    .dataframe tbody tr th:only-of-type {\n",
       "        vertical-align: middle;\n",
       "    }\n",
       "\n",
       "    .dataframe tbody tr th {\n",
       "        vertical-align: top;\n",
       "    }\n",
       "\n",
       "    .dataframe thead th {\n",
       "        text-align: right;\n",
       "    }\n",
       "</style>\n",
       "<table border=\"1\" class=\"dataframe\">\n",
       "  <thead>\n",
       "    <tr style=\"text-align: right;\">\n",
       "      <th></th>\n",
       "      <th>const</th>\n",
       "      <th>Time</th>\n",
       "    </tr>\n",
       "  </thead>\n",
       "  <tbody>\n",
       "    <tr>\n",
       "      <th>const</th>\n",
       "      <td>5.017663</td>\n",
       "      <td>-0.635081</td>\n",
       "    </tr>\n",
       "    <tr>\n",
       "      <th>Time</th>\n",
       "      <td>-0.635081</td>\n",
       "      <td>0.088035</td>\n",
       "    </tr>\n",
       "  </tbody>\n",
       "</table>\n",
       "</div>"
      ],
      "text/plain": [
       "          const      Time\n",
       "const  5.017663 -0.635081\n",
       "Time  -0.635081  0.088035"
      ]
     },
     "execution_count": 113,
     "metadata": {},
     "output_type": "execute_result"
    }
   ],
   "source": [
    "logit_pars = fit_results.params\n",
    "intercept_err, slope_err = np.diag(fit_results.cov_params())**.5\n",
    "fit_results.cov_params()"
   ]
  },
  {
   "cell_type": "code",
   "execution_count": 114,
   "metadata": {},
   "outputs": [
    {
     "name": "stdout",
     "output_type": "stream",
     "text": [
      "-5.797986708843619 0.8019792327180769\n"
     ]
    }
   ],
   "source": [
    "intercept = logit_pars['const']\n",
    "slope = logit_pars['Time']\n",
    "print(intercept,slope)"
   ]
  },
  {
   "cell_type": "code",
   "execution_count": 115,
   "metadata": {},
   "outputs": [
    {
     "data": {
      "text/html": [
       "<div>\n",
       "<style scoped>\n",
       "    .dataframe tbody tr th:only-of-type {\n",
       "        vertical-align: middle;\n",
       "    }\n",
       "\n",
       "    .dataframe tbody tr th {\n",
       "        vertical-align: top;\n",
       "    }\n",
       "\n",
       "    .dataframe thead th {\n",
       "        text-align: right;\n",
       "    }\n",
       "</style>\n",
       "<table border=\"1\" class=\"dataframe\">\n",
       "  <thead>\n",
       "    <tr style=\"text-align: right;\">\n",
       "      <th></th>\n",
       "      <th>0</th>\n",
       "      <th>1</th>\n",
       "    </tr>\n",
       "  </thead>\n",
       "  <tbody>\n",
       "    <tr>\n",
       "      <th>const</th>\n",
       "      <td>-10.188333</td>\n",
       "      <td>-1.407640</td>\n",
       "    </tr>\n",
       "    <tr>\n",
       "      <th>Time</th>\n",
       "      <td>0.220444</td>\n",
       "      <td>1.383514</td>\n",
       "    </tr>\n",
       "  </tbody>\n",
       "</table>\n",
       "</div>"
      ],
      "text/plain": [
       "               0         1\n",
       "const -10.188333 -1.407640\n",
       "Time    0.220444  1.383514"
      ]
     },
     "execution_count": 115,
     "metadata": {},
     "output_type": "execute_result"
    }
   ],
   "source": [
    "fit_results.conf_int()"
   ]
  },
  {
   "cell_type": "code",
   "execution_count": 116,
   "metadata": {},
   "outputs": [
    {
     "data": {
      "image/png": "[encoded data removed]",
      "text/plain": [
       "<Figure size 432x288 with 1 Axes>"
      ]
     },
     "metadata": {
      "needs_background": "light"
     },
     "output_type": "display_data"
    }
   ],
   "source": [
    "plt.plot(data.Time, data.Pass,'o', mew=0, ms=7, label='Data')\n",
    "p = lambda x,k,m: 1 / (1+np.exp(-1*(k*x+m)))\n",
    "xx = np.linspace(0,data.Time.max())\n",
    "l1 = plt.plot(xx, p(xx,slope,intercept), label='Fit')\n",
    "plt.fill_between(xx,\n",
    "    p(xx,slope+slope_err**2, intercept+intercept_err),\n",
    "    p(xx,slope-slope_err**2, intercept-intercept_err), \n",
    "    alpha=0.15,\n",
    "    color=l1[0].get_color())\n",
    "plt.ylim(-.1,1.1)\n",
    "plt.xlim(-0.2,16.2)\n",
    "plt.xlabel('Time studied')\n",
    "plt.ylabel('Pass? (0=no, 1=yes)')\n",
    "plt.legend(loc=2, numpoints=1);"
   ]
  },
  {
   "cell_type": "code",
   "execution_count": 117,
   "metadata": {},
   "outputs": [
    {
     "name": "stdout",
     "output_type": "stream",
     "text": [
      "50% sucess rate: 7.2 +8.7/-4.0\n"
     ]
    }
   ],
   "source": [
    "target=0.5\n",
    "x_prob = lambda p,k,m: (np.log(p/(1-p))-m)/k\n",
    "T_max = x_prob(target, slope-slope_err, intercept-intercept_err)\n",
    "T_min = x_prob(target, slope+slope_err, intercept+intercept_err)\n",
    "T_best = x_prob(target, slope, intercept)\n",
    "print('{0}% sucess rate: {1:.1f} +{2:.1f}/-{3:.1f}'.format(int(target*100),T_best,T_max-T_best,T_best-T_min))"
   ]
  },
  {
   "cell_type": "code",
   "execution_count": null,
   "metadata": {},
   "outputs": [],
   "source": []
  }
 ],
 "metadata": {
  "kernelspec": {
   "display_name": "Python 3",
   "language": "python",
   "name": "python3"
  },
  "language_info": {
   "codemirror_mode": {
    "name": "ipython",
    "version": 3
   },
   "file_extension": ".py",
   "mimetype": "text/x-python",
   "name": "python",
   "nbconvert_exporter": "python",
   "pygments_lexer": "ipython3",
   "version": "3.7.1"
  }
 },
 "nbformat": 4,
 "nbformat_minor": 2
}
